{
  "nbformat": 4,
  "nbformat_minor": 0,
  "metadata": {
    "colab": {
      "provenance": [],
      "include_colab_link": true
    },
    "kernelspec": {
      "name": "python3",
      "display_name": "Python 3"
    },
    "language_info": {
      "name": "python"
    }
  },
  "cells": [
    {
      "cell_type": "markdown",
      "metadata": {
        "id": "view-in-github",
        "colab_type": "text"
      },
      "source": [
        "<a href=\"https://colab.research.google.com/github/TanJianWu/MaxKB/blob/main/Copy_of_RAG%E6%A1%88%E4%BE%8B.ipynb\" target=\"_parent\"><img src=\"https://colab.research.google.com/assets/colab-badge.svg\" alt=\"Open In Colab\"/></a>"
      ]
    },
    {
      "cell_type": "markdown",
      "source": [
        "# 代码说明\n",
        "\n",
        "使用 LangChain、Weaviate 和 OpenAI 的 API 来实现一个基于检索增强生成（Retrieval-Augmented Generation, RAG）的方法，用于从文档中回答用户提出的问题。"
      ],
      "metadata": {
        "id": "1kEXMiFDSsTK"
      }
    },
    {
      "cell_type": "markdown",
      "source": [
        "**1.安装并导入模块**\n",
        "\n",
        "* LangChain 库：提供了一组工具和模块，用于处理文档加载、分块、向量存储、提示生成、LLM（大语言模型）调用等任务。\n",
        "* Weaviate：一种用于管理和搜索向量数据的向量数据库。\n",
        "* Google Colab 的 userdata：用于安全地管理和存储用户的 API 密钥。\n"
      ],
      "metadata": {
        "id": "wIUf6WE0S1Uv"
      }
    },
    {
      "cell_type": "code",
      "execution_count": null,
      "metadata": {
        "colab": {
          "base_uri": "https://localhost:8080/"
        },
        "collapsed": true,
        "id": "7HZ_zAubleMT",
        "outputId": "576ab6c6-2809-4408-aaff-bb874b2edfd8"
      },
      "outputs": [
        {
          "output_type": "stream",
          "name": "stdout",
          "text": [
            "Collecting langchain\n",
            "  Downloading langchain-0.2.15-py3-none-any.whl.metadata (7.1 kB)\n",
            "Collecting openai\n",
            "  Downloading openai-1.42.0-py3-none-any.whl.metadata (22 kB)\n",
            "Collecting weaviate-client\n",
            "  Downloading weaviate_client-4.7.1-py3-none-any.whl.metadata (3.3 kB)\n",
            "Requirement already satisfied: PyYAML>=5.3 in /usr/local/lib/python3.10/dist-packages (from langchain) (6.0.2)\n",
            "Requirement already satisfied: SQLAlchemy<3,>=1.4 in /usr/local/lib/python3.10/dist-packages (from langchain) (2.0.32)\n",
            "Requirement already satisfied: aiohttp<4.0.0,>=3.8.3 in /usr/local/lib/python3.10/dist-packages (from langchain) (3.10.5)\n",
            "Requirement already satisfied: async-timeout<5.0.0,>=4.0.0 in /usr/local/lib/python3.10/dist-packages (from langchain) (4.0.3)\n",
            "Collecting langchain-core<0.3.0,>=0.2.35 (from langchain)\n",
            "  Downloading langchain_core-0.2.36-py3-none-any.whl.metadata (6.2 kB)\n",
            "Collecting langchain-text-splitters<0.3.0,>=0.2.0 (from langchain)\n",
            "  Downloading langchain_text_splitters-0.2.2-py3-none-any.whl.metadata (2.1 kB)\n",
            "Collecting langsmith<0.2.0,>=0.1.17 (from langchain)\n",
            "  Downloading langsmith-0.1.106-py3-none-any.whl.metadata (13 kB)\n",
            "Requirement already satisfied: numpy<2,>=1 in /usr/local/lib/python3.10/dist-packages (from langchain) (1.26.4)\n",
            "Requirement already satisfied: pydantic<3,>=1 in /usr/local/lib/python3.10/dist-packages (from langchain) (2.8.2)\n",
            "Requirement already satisfied: requests<3,>=2 in /usr/local/lib/python3.10/dist-packages (from langchain) (2.32.3)\n",
            "Collecting tenacity!=8.4.0,<9.0.0,>=8.1.0 (from langchain)\n",
            "  Downloading tenacity-8.5.0-py3-none-any.whl.metadata (1.2 kB)\n",
            "Requirement already satisfied: anyio<5,>=3.5.0 in /usr/local/lib/python3.10/dist-packages (from openai) (3.7.1)\n",
            "Requirement already satisfied: distro<2,>=1.7.0 in /usr/lib/python3/dist-packages (from openai) (1.7.0)\n",
            "Collecting httpx<1,>=0.23.0 (from openai)\n",
            "  Downloading httpx-0.27.2-py3-none-any.whl.metadata (7.1 kB)\n",
            "Collecting jiter<1,>=0.4.0 (from openai)\n",
            "  Downloading jiter-0.5.0-cp310-cp310-manylinux_2_17_x86_64.manylinux2014_x86_64.whl.metadata (3.6 kB)\n",
            "Requirement already satisfied: sniffio in /usr/local/lib/python3.10/dist-packages (from openai) (1.3.1)\n",
            "Requirement already satisfied: tqdm>4 in /usr/local/lib/python3.10/dist-packages (from openai) (4.66.5)\n",
            "Requirement already satisfied: typing-extensions<5,>=4.11 in /usr/local/lib/python3.10/dist-packages (from openai) (4.12.2)\n",
            "Collecting httpx<1,>=0.23.0 (from openai)\n",
            "  Downloading httpx-0.27.0-py3-none-any.whl.metadata (7.2 kB)\n",
            "Collecting validators==0.33.0 (from weaviate-client)\n",
            "  Downloading validators-0.33.0-py3-none-any.whl.metadata (3.8 kB)\n",
            "Collecting authlib<2.0.0,>=1.2.1 (from weaviate-client)\n",
            "  Downloading Authlib-1.3.2-py2.py3-none-any.whl.metadata (3.9 kB)\n",
            "Requirement already satisfied: grpcio<2.0.0,>=1.57.0 in /usr/local/lib/python3.10/dist-packages (from weaviate-client) (1.64.1)\n",
            "Collecting grpcio-tools<2.0.0,>=1.57.0 (from weaviate-client)\n",
            "  Downloading grpcio_tools-1.66.1-cp310-cp310-manylinux_2_17_x86_64.manylinux2014_x86_64.whl.metadata (5.3 kB)\n",
            "Collecting grpcio-health-checking<2.0.0,>=1.57.0 (from weaviate-client)\n",
            "  Downloading grpcio_health_checking-1.66.1-py3-none-any.whl.metadata (1.1 kB)\n",
            "Requirement already satisfied: aiohappyeyeballs>=2.3.0 in /usr/local/lib/python3.10/dist-packages (from aiohttp<4.0.0,>=3.8.3->langchain) (2.4.0)\n",
            "Requirement already satisfied: aiosignal>=1.1.2 in /usr/local/lib/python3.10/dist-packages (from aiohttp<4.0.0,>=3.8.3->langchain) (1.3.1)\n",
            "Requirement already satisfied: attrs>=17.3.0 in /usr/local/lib/python3.10/dist-packages (from aiohttp<4.0.0,>=3.8.3->langchain) (24.2.0)\n",
            "Requirement already satisfied: frozenlist>=1.1.1 in /usr/local/lib/python3.10/dist-packages (from aiohttp<4.0.0,>=3.8.3->langchain) (1.4.1)\n",
            "Requirement already satisfied: multidict<7.0,>=4.5 in /usr/local/lib/python3.10/dist-packages (from aiohttp<4.0.0,>=3.8.3->langchain) (6.0.5)\n",
            "Requirement already satisfied: yarl<2.0,>=1.0 in /usr/local/lib/python3.10/dist-packages (from aiohttp<4.0.0,>=3.8.3->langchain) (1.9.4)\n",
            "Requirement already satisfied: idna>=2.8 in /usr/local/lib/python3.10/dist-packages (from anyio<5,>=3.5.0->openai) (3.8)\n",
            "Requirement already satisfied: exceptiongroup in /usr/local/lib/python3.10/dist-packages (from anyio<5,>=3.5.0->openai) (1.2.2)\n",
            "Requirement already satisfied: cryptography in /usr/local/lib/python3.10/dist-packages (from authlib<2.0.0,>=1.2.1->weaviate-client) (43.0.0)\n",
            "Collecting protobuf<6.0dev,>=5.26.1 (from grpcio-health-checking<2.0.0,>=1.57.0->weaviate-client)\n",
            "  Downloading protobuf-5.28.0-cp38-abi3-manylinux2014_x86_64.whl.metadata (592 bytes)\n",
            "Collecting grpcio<2.0.0,>=1.57.0 (from weaviate-client)\n",
            "  Downloading grpcio-1.66.1-cp310-cp310-manylinux_2_17_x86_64.manylinux2014_x86_64.whl.metadata (3.9 kB)\n",
            "Requirement already satisfied: setuptools in /usr/local/lib/python3.10/dist-packages (from grpcio-tools<2.0.0,>=1.57.0->weaviate-client) (71.0.4)\n",
            "Requirement already satisfied: certifi in /usr/local/lib/python3.10/dist-packages (from httpx<1,>=0.23.0->openai) (2024.7.4)\n",
            "Collecting httpcore==1.* (from httpx<1,>=0.23.0->openai)\n",
            "  Downloading httpcore-1.0.5-py3-none-any.whl.metadata (20 kB)\n",
            "Collecting h11<0.15,>=0.13 (from httpcore==1.*->httpx<1,>=0.23.0->openai)\n",
            "  Downloading h11-0.14.0-py3-none-any.whl.metadata (8.2 kB)\n",
            "Collecting jsonpatch<2.0,>=1.33 (from langchain-core<0.3.0,>=0.2.35->langchain)\n",
            "  Downloading jsonpatch-1.33-py2.py3-none-any.whl.metadata (3.0 kB)\n",
            "Requirement already satisfied: packaging<25,>=23.2 in /usr/local/lib/python3.10/dist-packages (from langchain-core<0.3.0,>=0.2.35->langchain) (24.1)\n",
            "Collecting orjson<4.0.0,>=3.9.14 (from langsmith<0.2.0,>=0.1.17->langchain)\n",
            "  Downloading orjson-3.10.7-cp310-cp310-manylinux_2_17_x86_64.manylinux2014_x86_64.whl.metadata (50 kB)\n",
            "\u001b[2K     \u001b[90m━━━━━━━━━━━━━━━━━━━━━━━━━━━━━━━━━━━━━━━━\u001b[0m \u001b[32m50.4/50.4 kB\u001b[0m \u001b[31m1.9 MB/s\u001b[0m eta \u001b[36m0:00:00\u001b[0m\n",
            "\u001b[?25hRequirement already satisfied: annotated-types>=0.4.0 in /usr/local/lib/python3.10/dist-packages (from pydantic<3,>=1->langchain) (0.7.0)\n",
            "Requirement already satisfied: pydantic-core==2.20.1 in /usr/local/lib/python3.10/dist-packages (from pydantic<3,>=1->langchain) (2.20.1)\n",
            "Requirement already satisfied: charset-normalizer<4,>=2 in /usr/local/lib/python3.10/dist-packages (from requests<3,>=2->langchain) (3.3.2)\n",
            "Requirement already satisfied: urllib3<3,>=1.21.1 in /usr/local/lib/python3.10/dist-packages (from requests<3,>=2->langchain) (2.0.7)\n",
            "Requirement already satisfied: greenlet!=0.4.17 in /usr/local/lib/python3.10/dist-packages (from SQLAlchemy<3,>=1.4->langchain) (3.0.3)\n",
            "Collecting jsonpointer>=1.9 (from jsonpatch<2.0,>=1.33->langchain-core<0.3.0,>=0.2.35->langchain)\n",
            "  Downloading jsonpointer-3.0.0-py2.py3-none-any.whl.metadata (2.3 kB)\n",
            "Requirement already satisfied: cffi>=1.12 in /usr/local/lib/python3.10/dist-packages (from cryptography->authlib<2.0.0,>=1.2.1->weaviate-client) (1.17.0)\n",
            "Requirement already satisfied: pycparser in /usr/local/lib/python3.10/dist-packages (from cffi>=1.12->cryptography->authlib<2.0.0,>=1.2.1->weaviate-client) (2.22)\n",
            "Downloading langchain-0.2.15-py3-none-any.whl (1.0 MB)\n",
            "\u001b[2K   \u001b[90m━━━━━━━━━━━━━━━━━━━━━━━━━━━━━━━━━━━━━━━━\u001b[0m \u001b[32m1.0/1.0 MB\u001b[0m \u001b[31m17.2 MB/s\u001b[0m eta \u001b[36m0:00:00\u001b[0m\n",
            "\u001b[?25hDownloading openai-1.42.0-py3-none-any.whl (362 kB)\n",
            "\u001b[2K   \u001b[90m━━━━━━━━━━━━━━━━━━━━━━━━━━━━━━━━━━━━━━━━\u001b[0m \u001b[32m362.9/362.9 kB\u001b[0m \u001b[31m24.6 MB/s\u001b[0m eta \u001b[36m0:00:00\u001b[0m\n",
            "\u001b[?25hDownloading weaviate_client-4.7.1-py3-none-any.whl (368 kB)\n",
            "\u001b[2K   \u001b[90m━━━━━━━━━━━━━━━━━━━━━━━━━━━━━━━━━━━━━━━━\u001b[0m \u001b[32m368.3/368.3 kB\u001b[0m \u001b[31m24.4 MB/s\u001b[0m eta \u001b[36m0:00:00\u001b[0m\n",
            "\u001b[?25hDownloading validators-0.33.0-py3-none-any.whl (43 kB)\n",
            "\u001b[2K   \u001b[90m━━━━━━━━━━━━━━━━━━━━━━━━━━━━━━━━━━━━━━━━\u001b[0m \u001b[32m43.3/43.3 kB\u001b[0m \u001b[31m2.7 MB/s\u001b[0m eta \u001b[36m0:00:00\u001b[0m\n",
            "\u001b[?25hDownloading Authlib-1.3.2-py2.py3-none-any.whl (225 kB)\n",
            "\u001b[2K   \u001b[90m━━━━━━━━━━━━━━━━━━━━━━━━━━━━━━━━━━━━━━━━\u001b[0m \u001b[32m225.1/225.1 kB\u001b[0m \u001b[31m15.9 MB/s\u001b[0m eta \u001b[36m0:00:00\u001b[0m\n",
            "\u001b[?25hDownloading grpcio_health_checking-1.66.1-py3-none-any.whl (18 kB)\n",
            "Downloading grpcio-1.66.1-cp310-cp310-manylinux_2_17_x86_64.manylinux2014_x86_64.whl (5.7 MB)\n",
            "\u001b[2K   \u001b[90m━━━━━━━━━━━━━━━━━━━━━━━━━━━━━━━━━━━━━━━━\u001b[0m \u001b[32m5.7/5.7 MB\u001b[0m \u001b[31m76.4 MB/s\u001b[0m eta \u001b[36m0:00:00\u001b[0m\n",
            "\u001b[?25hDownloading grpcio_tools-1.66.1-cp310-cp310-manylinux_2_17_x86_64.manylinux2014_x86_64.whl (2.4 MB)\n",
            "\u001b[2K   \u001b[90m━━━━━━━━━━━━━━━━━━━━━━━━━━━━━━━━━━━━━━━━\u001b[0m \u001b[32m2.4/2.4 MB\u001b[0m \u001b[31m65.6 MB/s\u001b[0m eta \u001b[36m0:00:00\u001b[0m\n",
            "\u001b[?25hDownloading httpx-0.27.0-py3-none-any.whl (75 kB)\n",
            "\u001b[2K   \u001b[90m━━━━━━━━━━━━━━━━━━━━━━━━━━━━━━━━━━━━━━━━\u001b[0m \u001b[32m75.6/75.6 kB\u001b[0m \u001b[31m5.5 MB/s\u001b[0m eta \u001b[36m0:00:00\u001b[0m\n",
            "\u001b[?25hDownloading httpcore-1.0.5-py3-none-any.whl (77 kB)\n",
            "\u001b[2K   \u001b[90m━━━━━━━━━━━━━━━━━━━━━━━━━━━━━━━━━━━━━━━━\u001b[0m \u001b[32m77.9/77.9 kB\u001b[0m \u001b[31m5.8 MB/s\u001b[0m eta \u001b[36m0:00:00\u001b[0m\n",
            "\u001b[?25hDownloading jiter-0.5.0-cp310-cp310-manylinux_2_17_x86_64.manylinux2014_x86_64.whl (318 kB)\n",
            "\u001b[2K   \u001b[90m━━━━━━━━━━━━━━━━━━━━━━━━━━━━━━━━━━━━━━━━\u001b[0m \u001b[32m318.9/318.9 kB\u001b[0m \u001b[31m20.8 MB/s\u001b[0m eta \u001b[36m0:00:00\u001b[0m\n",
            "\u001b[?25hDownloading langchain_core-0.2.36-py3-none-any.whl (395 kB)\n",
            "\u001b[2K   \u001b[90m━━━━━━━━━━━━━━━━━━━━━━━━━━━━━━━━━━━━━━━━\u001b[0m \u001b[32m395.9/395.9 kB\u001b[0m \u001b[31m25.5 MB/s\u001b[0m eta \u001b[36m0:00:00\u001b[0m\n",
            "\u001b[?25hDownloading langchain_text_splitters-0.2.2-py3-none-any.whl (25 kB)\n",
            "Downloading langsmith-0.1.106-py3-none-any.whl (150 kB)\n",
            "\u001b[2K   \u001b[90m━━━━━━━━━━━━━━━━━━━━━━━━━━━━━━━━━━━━━━━━\u001b[0m \u001b[32m150.6/150.6 kB\u001b[0m \u001b[31m10.5 MB/s\u001b[0m eta \u001b[36m0:00:00\u001b[0m\n",
            "\u001b[?25hDownloading tenacity-8.5.0-py3-none-any.whl (28 kB)\n",
            "Downloading jsonpatch-1.33-py2.py3-none-any.whl (12 kB)\n",
            "Downloading orjson-3.10.7-cp310-cp310-manylinux_2_17_x86_64.manylinux2014_x86_64.whl (141 kB)\n",
            "\u001b[2K   \u001b[90m━━━━━━━━━━━━━━━━━━━━━━━━━━━━━━━━━━━━━━━━\u001b[0m \u001b[32m141.9/141.9 kB\u001b[0m \u001b[31m10.9 MB/s\u001b[0m eta \u001b[36m0:00:00\u001b[0m\n",
            "\u001b[?25hDownloading protobuf-5.28.0-cp38-abi3-manylinux2014_x86_64.whl (316 kB)\n",
            "\u001b[2K   \u001b[90m━━━━━━━━━━━━━━━━━━━━━━━━━━━━━━━━━━━━━━━━\u001b[0m \u001b[32m316.6/316.6 kB\u001b[0m \u001b[31m21.1 MB/s\u001b[0m eta \u001b[36m0:00:00\u001b[0m\n",
            "\u001b[?25hDownloading h11-0.14.0-py3-none-any.whl (58 kB)\n",
            "\u001b[2K   \u001b[90m━━━━━━━━━━━━━━━━━━━━━━━━━━━━━━━━━━━━━━━━\u001b[0m \u001b[32m58.3/58.3 kB\u001b[0m \u001b[31m4.1 MB/s\u001b[0m eta \u001b[36m0:00:00\u001b[0m\n",
            "\u001b[?25hDownloading jsonpointer-3.0.0-py2.py3-none-any.whl (7.6 kB)\n",
            "Installing collected packages: validators, tenacity, protobuf, orjson, jsonpointer, jiter, h11, grpcio, jsonpatch, httpcore, grpcio-tools, grpcio-health-checking, httpx, authlib, weaviate-client, openai, langsmith, langchain-core, langchain-text-splitters, langchain\n",
            "  Attempting uninstall: tenacity\n",
            "    Found existing installation: tenacity 9.0.0\n",
            "    Uninstalling tenacity-9.0.0:\n",
            "      Successfully uninstalled tenacity-9.0.0\n",
            "  Attempting uninstall: protobuf\n",
            "    Found existing installation: protobuf 3.20.3\n",
            "    Uninstalling protobuf-3.20.3:\n",
            "      Successfully uninstalled protobuf-3.20.3\n",
            "  Attempting uninstall: grpcio\n",
            "    Found existing installation: grpcio 1.64.1\n",
            "    Uninstalling grpcio-1.64.1:\n",
            "      Successfully uninstalled grpcio-1.64.1\n",
            "\u001b[31mERROR: pip's dependency resolver does not currently take into account all the packages that are installed. This behaviour is the source of the following dependency conflicts.\n",
            "cudf-cu12 24.4.1 requires protobuf<5,>=3.20, but you have protobuf 5.28.0 which is incompatible.\n",
            "google-ai-generativelanguage 0.6.6 requires protobuf!=3.20.0,!=3.20.1,!=4.21.0,!=4.21.1,!=4.21.2,!=4.21.3,!=4.21.4,!=4.21.5,<5.0.0dev,>=3.19.5, but you have protobuf 5.28.0 which is incompatible.\n",
            "google-cloud-bigquery-storage 2.25.0 requires protobuf!=3.20.0,!=3.20.1,!=4.21.0,!=4.21.1,!=4.21.2,!=4.21.3,!=4.21.4,!=4.21.5,<5.0.0dev,>=3.19.5, but you have protobuf 5.28.0 which is incompatible.\n",
            "google-cloud-datastore 2.19.0 requires protobuf!=3.20.0,!=3.20.1,!=4.21.0,!=4.21.1,!=4.21.2,!=4.21.3,!=4.21.4,!=4.21.5,<5.0.0dev,>=3.19.5, but you have protobuf 5.28.0 which is incompatible.\n",
            "google-cloud-firestore 2.16.1 requires protobuf!=3.20.0,!=3.20.1,!=4.21.0,!=4.21.1,!=4.21.2,!=4.21.3,!=4.21.4,!=4.21.5,<5.0.0dev,>=3.19.5, but you have protobuf 5.28.0 which is incompatible.\n",
            "tensorboard 2.17.0 requires protobuf!=4.24.0,<5.0.0,>=3.19.6, but you have protobuf 5.28.0 which is incompatible.\n",
            "tensorflow 2.17.0 requires protobuf!=4.21.0,!=4.21.1,!=4.21.2,!=4.21.3,!=4.21.4,!=4.21.5,<5.0.0dev,>=3.20.3, but you have protobuf 5.28.0 which is incompatible.\n",
            "tensorflow-metadata 1.15.0 requires protobuf<4.21,>=3.20.3; python_version < \"3.11\", but you have protobuf 5.28.0 which is incompatible.\u001b[0m\u001b[31m\n",
            "\u001b[0mSuccessfully installed authlib-1.3.2 grpcio-1.66.1 grpcio-health-checking-1.66.1 grpcio-tools-1.66.1 h11-0.14.0 httpcore-1.0.5 httpx-0.27.0 jiter-0.5.0 jsonpatch-1.33 jsonpointer-3.0.0 langchain-0.2.15 langchain-core-0.2.36 langchain-text-splitters-0.2.2 langsmith-0.1.106 openai-1.42.0 orjson-3.10.7 protobuf-5.28.0 tenacity-8.5.0 validators-0.33.0 weaviate-client-4.7.1\n",
            "Collecting langchain-community\n",
            "  Downloading langchain_community-0.2.14-py3-none-any.whl.metadata (2.7 kB)\n",
            "Requirement already satisfied: PyYAML>=5.3 in /usr/local/lib/python3.10/dist-packages (from langchain-community) (6.0.2)\n",
            "Requirement already satisfied: SQLAlchemy<3,>=1.4 in /usr/local/lib/python3.10/dist-packages (from langchain-community) (2.0.32)\n",
            "Requirement already satisfied: aiohttp<4.0.0,>=3.8.3 in /usr/local/lib/python3.10/dist-packages (from langchain-community) (3.10.5)\n",
            "Collecting dataclasses-json<0.7,>=0.5.7 (from langchain-community)\n",
            "  Downloading dataclasses_json-0.6.7-py3-none-any.whl.metadata (25 kB)\n",
            "Requirement already satisfied: langchain<0.3.0,>=0.2.15 in /usr/local/lib/python3.10/dist-packages (from langchain-community) (0.2.15)\n",
            "Requirement already satisfied: langchain-core==0.2.36 in /usr/local/lib/python3.10/dist-packages (from langchain-community) (0.2.36)\n",
            "Requirement already satisfied: langsmith<0.2.0,>=0.1.0 in /usr/local/lib/python3.10/dist-packages (from langchain-community) (0.1.106)\n",
            "Requirement already satisfied: numpy<2,>=1 in /usr/local/lib/python3.10/dist-packages (from langchain-community) (1.26.4)\n",
            "Requirement already satisfied: requests<3,>=2 in /usr/local/lib/python3.10/dist-packages (from langchain-community) (2.32.3)\n",
            "Requirement already satisfied: tenacity!=8.4.0,<9.0.0,>=8.1.0 in /usr/local/lib/python3.10/dist-packages (from langchain-community) (8.5.0)\n",
            "Requirement already satisfied: jsonpatch<2.0,>=1.33 in /usr/local/lib/python3.10/dist-packages (from langchain-core==0.2.36->langchain-community) (1.33)\n",
            "Requirement already satisfied: packaging<25,>=23.2 in /usr/local/lib/python3.10/dist-packages (from langchain-core==0.2.36->langchain-community) (24.1)\n",
            "Requirement already satisfied: pydantic<3,>=1 in /usr/local/lib/python3.10/dist-packages (from langchain-core==0.2.36->langchain-community) (2.8.2)\n",
            "Requirement already satisfied: typing-extensions>=4.7 in /usr/local/lib/python3.10/dist-packages (from langchain-core==0.2.36->langchain-community) (4.12.2)\n",
            "Requirement already satisfied: aiohappyeyeballs>=2.3.0 in /usr/local/lib/python3.10/dist-packages (from aiohttp<4.0.0,>=3.8.3->langchain-community) (2.4.0)\n",
            "Requirement already satisfied: aiosignal>=1.1.2 in /usr/local/lib/python3.10/dist-packages (from aiohttp<4.0.0,>=3.8.3->langchain-community) (1.3.1)\n",
            "Requirement already satisfied: attrs>=17.3.0 in /usr/local/lib/python3.10/dist-packages (from aiohttp<4.0.0,>=3.8.3->langchain-community) (24.2.0)\n",
            "Requirement already satisfied: frozenlist>=1.1.1 in /usr/local/lib/python3.10/dist-packages (from aiohttp<4.0.0,>=3.8.3->langchain-community) (1.4.1)\n",
            "Requirement already satisfied: multidict<7.0,>=4.5 in /usr/local/lib/python3.10/dist-packages (from aiohttp<4.0.0,>=3.8.3->langchain-community) (6.0.5)\n",
            "Requirement already satisfied: yarl<2.0,>=1.0 in /usr/local/lib/python3.10/dist-packages (from aiohttp<4.0.0,>=3.8.3->langchain-community) (1.9.4)\n",
            "Requirement already satisfied: async-timeout<5.0,>=4.0 in /usr/local/lib/python3.10/dist-packages (from aiohttp<4.0.0,>=3.8.3->langchain-community) (4.0.3)\n",
            "Collecting marshmallow<4.0.0,>=3.18.0 (from dataclasses-json<0.7,>=0.5.7->langchain-community)\n",
            "  Downloading marshmallow-3.22.0-py3-none-any.whl.metadata (7.2 kB)\n",
            "Collecting typing-inspect<1,>=0.4.0 (from dataclasses-json<0.7,>=0.5.7->langchain-community)\n",
            "  Downloading typing_inspect-0.9.0-py3-none-any.whl.metadata (1.5 kB)\n",
            "Requirement already satisfied: langchain-text-splitters<0.3.0,>=0.2.0 in /usr/local/lib/python3.10/dist-packages (from langchain<0.3.0,>=0.2.15->langchain-community) (0.2.2)\n",
            "Requirement already satisfied: httpx<1,>=0.23.0 in /usr/local/lib/python3.10/dist-packages (from langsmith<0.2.0,>=0.1.0->langchain-community) (0.27.0)\n",
            "Requirement already satisfied: orjson<4.0.0,>=3.9.14 in /usr/local/lib/python3.10/dist-packages (from langsmith<0.2.0,>=0.1.0->langchain-community) (3.10.7)\n",
            "Requirement already satisfied: charset-normalizer<4,>=2 in /usr/local/lib/python3.10/dist-packages (from requests<3,>=2->langchain-community) (3.3.2)\n",
            "Requirement already satisfied: idna<4,>=2.5 in /usr/local/lib/python3.10/dist-packages (from requests<3,>=2->langchain-community) (3.8)\n",
            "Requirement already satisfied: urllib3<3,>=1.21.1 in /usr/local/lib/python3.10/dist-packages (from requests<3,>=2->langchain-community) (2.0.7)\n",
            "Requirement already satisfied: certifi>=2017.4.17 in /usr/local/lib/python3.10/dist-packages (from requests<3,>=2->langchain-community) (2024.7.4)\n",
            "Requirement already satisfied: greenlet!=0.4.17 in /usr/local/lib/python3.10/dist-packages (from SQLAlchemy<3,>=1.4->langchain-community) (3.0.3)\n",
            "Requirement already satisfied: anyio in /usr/local/lib/python3.10/dist-packages (from httpx<1,>=0.23.0->langsmith<0.2.0,>=0.1.0->langchain-community) (3.7.1)\n",
            "Requirement already satisfied: httpcore==1.* in /usr/local/lib/python3.10/dist-packages (from httpx<1,>=0.23.0->langsmith<0.2.0,>=0.1.0->langchain-community) (1.0.5)\n",
            "Requirement already satisfied: sniffio in /usr/local/lib/python3.10/dist-packages (from httpx<1,>=0.23.0->langsmith<0.2.0,>=0.1.0->langchain-community) (1.3.1)\n",
            "Requirement already satisfied: h11<0.15,>=0.13 in /usr/local/lib/python3.10/dist-packages (from httpcore==1.*->httpx<1,>=0.23.0->langsmith<0.2.0,>=0.1.0->langchain-community) (0.14.0)\n",
            "Requirement already satisfied: jsonpointer>=1.9 in /usr/local/lib/python3.10/dist-packages (from jsonpatch<2.0,>=1.33->langchain-core==0.2.36->langchain-community) (3.0.0)\n",
            "Requirement already satisfied: annotated-types>=0.4.0 in /usr/local/lib/python3.10/dist-packages (from pydantic<3,>=1->langchain-core==0.2.36->langchain-community) (0.7.0)\n",
            "Requirement already satisfied: pydantic-core==2.20.1 in /usr/local/lib/python3.10/dist-packages (from pydantic<3,>=1->langchain-core==0.2.36->langchain-community) (2.20.1)\n",
            "Collecting mypy-extensions>=0.3.0 (from typing-inspect<1,>=0.4.0->dataclasses-json<0.7,>=0.5.7->langchain-community)\n",
            "  Downloading mypy_extensions-1.0.0-py3-none-any.whl.metadata (1.1 kB)\n",
            "Requirement already satisfied: exceptiongroup in /usr/local/lib/python3.10/dist-packages (from anyio->httpx<1,>=0.23.0->langsmith<0.2.0,>=0.1.0->langchain-community) (1.2.2)\n",
            "Downloading langchain_community-0.2.14-py3-none-any.whl (2.3 MB)\n",
            "\u001b[2K   \u001b[90m━━━━━━━━━━━━━━━━━━━━━━━━━━━━━━━━━━━━━━━━\u001b[0m \u001b[32m2.3/2.3 MB\u001b[0m \u001b[31m14.1 MB/s\u001b[0m eta \u001b[36m0:00:00\u001b[0m\n",
            "\u001b[?25hDownloading dataclasses_json-0.6.7-py3-none-any.whl (28 kB)\n",
            "Downloading marshmallow-3.22.0-py3-none-any.whl (49 kB)\n",
            "\u001b[2K   \u001b[90m━━━━━━━━━━━━━━━━━━━━━━━━━━━━━━━━━━━━━━━━\u001b[0m \u001b[32m49.3/49.3 kB\u001b[0m \u001b[31m1.3 MB/s\u001b[0m eta \u001b[36m0:00:00\u001b[0m\n",
            "\u001b[?25hDownloading typing_inspect-0.9.0-py3-none-any.whl (8.8 kB)\n",
            "Downloading mypy_extensions-1.0.0-py3-none-any.whl (4.7 kB)\n",
            "Installing collected packages: mypy-extensions, marshmallow, typing-inspect, dataclasses-json, langchain-community\n",
            "Successfully installed dataclasses-json-0.6.7 langchain-community-0.2.14 marshmallow-3.22.0 mypy-extensions-1.0.0 typing-inspect-0.9.0\n",
            "Collecting tiktoken\n",
            "  Downloading tiktoken-0.7.0-cp310-cp310-manylinux_2_17_x86_64.manylinux2014_x86_64.whl.metadata (6.6 kB)\n",
            "Requirement already satisfied: regex>=2022.1.18 in /usr/local/lib/python3.10/dist-packages (from tiktoken) (2024.5.15)\n",
            "Requirement already satisfied: requests>=2.26.0 in /usr/local/lib/python3.10/dist-packages (from tiktoken) (2.32.3)\n",
            "Requirement already satisfied: charset-normalizer<4,>=2 in /usr/local/lib/python3.10/dist-packages (from requests>=2.26.0->tiktoken) (3.3.2)\n",
            "Requirement already satisfied: idna<4,>=2.5 in /usr/local/lib/python3.10/dist-packages (from requests>=2.26.0->tiktoken) (3.8)\n",
            "Requirement already satisfied: urllib3<3,>=1.21.1 in /usr/local/lib/python3.10/dist-packages (from requests>=2.26.0->tiktoken) (2.0.7)\n",
            "Requirement already satisfied: certifi>=2017.4.17 in /usr/local/lib/python3.10/dist-packages (from requests>=2.26.0->tiktoken) (2024.7.4)\n",
            "Downloading tiktoken-0.7.0-cp310-cp310-manylinux_2_17_x86_64.manylinux2014_x86_64.whl (1.1 MB)\n",
            "\u001b[2K   \u001b[90m━━━━━━━━━━━━━━━━━━━━━━━━━━━━━━━━━━━━━━━━\u001b[0m \u001b[32m1.1/1.1 MB\u001b[0m \u001b[31m11.3 MB/s\u001b[0m eta \u001b[36m0:00:00\u001b[0m\n",
            "\u001b[?25hInstalling collected packages: tiktoken\n",
            "Successfully installed tiktoken-0.7.0\n"
          ]
        }
      ],
      "source": [
        "!pip install langchain openai weaviate-client\n",
        "!pip install -U langchain-community\n",
        "!pip install tiktoken"
      ]
    },
    {
      "cell_type": "code",
      "source": [
        "import weaviate\n",
        "from weaviate.embedded import EmbeddedOptions\n",
        "from langchain.document_loaders import TextLoader\n",
        "from langchain.text_splitter import CharacterTextSplitter\n",
        "from langchain.embeddings import OpenAIEmbeddings\n",
        "from langchain.vectorstores import Weaviate\n",
        "from langchain.prompts import ChatPromptTemplate\n",
        "from langchain.chat_models import ChatOpenAI\n",
        "from langchain.schema.runnable import RunnablePassthrough\n",
        "from langchain.schema.output_parser import StrOutputParser\n",
        "from langchain_community.document_loaders import DirectoryLoader\n",
        "from google.colab import userdata"
      ],
      "metadata": {
        "id": "6-uxkcQnlpfa",
        "colab": {
          "base_uri": "https://localhost:8080/"
        },
        "outputId": "6fbb7ab1-0007-4885-a53b-6d1692c89bf6"
      },
      "execution_count": null,
      "outputs": [
        {
          "output_type": "stream",
          "name": "stderr",
          "text": [
            "/usr/local/lib/python3.10/dist-packages/google/protobuf/runtime_version.py:112: UserWarning: Protobuf gencode version 5.27.2 is older than the runtime version 5.28.0 at grpc_health/v1/health.proto. Please avoid checked-in Protobuf gencode that can be obsolete.\n",
            "  warnings.warn(\n"
          ]
        }
      ]
    },
    {
      "cell_type": "code",
      "source": [
        "from google.colab import drive\n",
        "drive.mount('/content/drive')"
      ],
      "metadata": {
        "colab": {
          "base_uri": "https://localhost:8080/"
        },
        "id": "MWxqUw6-IKQX",
        "outputId": "ea8deb7e-50ac-433c-84e4-bc8a1114f604"
      },
      "execution_count": null,
      "outputs": [
        {
          "output_type": "stream",
          "name": "stdout",
          "text": [
            "Drive already mounted at /content/drive; to attempt to forcibly remount, call drive.mount(\"/content/drive\", force_remount=True).\n"
          ]
        }
      ]
    },
    {
      "cell_type": "markdown",
      "source": [
        "## 数据处理"
      ],
      "metadata": {
        "id": "LqbBkWSOV8Ur"
      }
    },
    {
      "cell_type": "markdown",
      "source": [
        "**2.加载数据**\n",
        "* DirectoryLoader：用于加载指定目录中的文本文件，这里只加载 .txt 格式的文件。\n",
        "* documents：加载的文档内容。"
      ],
      "metadata": {
        "id": "BbJEun9oTEfD"
      }
    },
    {
      "cell_type": "code",
      "source": [
        "#加载数据\n",
        "loader = DirectoryLoader('/content/drive/MyDrive/Colab Notebooks/docs', glob=\"*.txt\",loader_cls=TextLoader)\n",
        "documents = loader.load()\n",
        "print(documents)"
      ],
      "metadata": {
        "id": "GvhICJkXvTMR",
        "colab": {
          "base_uri": "https://localhost:8080/"
        },
        "outputId": "cb7b5bf2-3967-4078-ca2f-18f581d0fc4e"
      },
      "execution_count": null,
      "outputs": [
        {
          "output_type": "stream",
          "name": "stdout",
          "text": [
            "[Document(metadata={'source': '/content/drive/MyDrive/Colab Notebooks/docs/3.98万L4无人车来了！卷出行业新低，1小时卖掉半年产能.txt'}, page_content='3.98万L4无人车来了！卷出行业新低，1小时卖掉半年产能\\n智能车参考\\n·2024-06-29 14:37\\n关注\\n苏州L4玩家九识打造。\\n3.98万起，最便宜无人车来了。\\n\\n不到4万元，实现L4级自动驾驶，能送快递、生鲜和外卖。\\n\\n一经推出，产品直接爆单，1小时卖掉半年产能。\\n\\n打造爆款无人车的，是来自苏州的**九识智能，创立仅三年，产品服务已覆盖上百座城市，累计送单数破亿。\\n\\n3.98万起，最便宜的无人车来了\\n九识智能首场新品发布会，实际是发布了一个无人配送“车队”：\\n\\n根据客户对装载方式和空间的不同需求，推出了Z2，Z5 2024，Z8和Z10等多款产品，产品数字即可装载的空间大小，覆盖2m³-10m³区间，价格如下：\\n\\n\\n\\n这里面有的是新推出的产品，比如Z10，售价8.98万元，车长超4米，续航210km，满载重量1.5吨。\\n\\n\\n\\n也有老款升级换代，比如Z5(图为板车车型)，售价4.98万元，也是九识过去的主力车型：\\n\\n\\n\\n新Z5主要是对外观、功能和算法进行了升级：\\n\\n外观方面，车身稍微改动以降低风阻实现更长续航。\\n\\n同时将传感器融入车身，能适应更窄的道路。\\n\\n功能方面，车头换了新的大灯，光照范围更大，车身提示灯也更容易了解车况，车内也安装了监控。\\n\\n\\n\\n作为主力车型，Z5的售价还不到5万元，相比人工成本要低的多，发布会现场有客户透露“省钱50%都不止”。\\n\\n九识为什么能把无人车的价格做的这么低？\\n\\n对此，九识表示，主要通过两个手段：\\n\\n产品开发上，在保证产品功能不受影响的前提下，积极寻求更低成本的硬件替代。\\n\\n运营销售上，追求量的扩大，摊薄成本，实现“薄利多销”。\\n\\n\\n\\n售价虽然不高，硬核配置也不少：\\n\\n英伟达双Orin，提供512TOPS的算力。\\n\\n4颗激光雷达+5个毫米波雷达+12个超声波雷达+14个摄像头，感知范围超300m。\\n\\n说完硬件配置，再来看看软件算法：\\n\\n全新架构ZOE 2.0升级，采用雨雪滤波算法，让无人车能顶风冒雪配送。\\n\\n\\n\\n虽然目前配送借助了高精地图，但是在一些无图或者无法定位的特殊路段，九识依然有办法克服，高精地图只是让配送更稳定、加快无人车配送的手段。\\n\\n伴随着一系列重磅产品发布升级，九识智能，这位来自苏州的自动驾驶玩家，走上台前。\\n\\n创立于2021年8月，此后不久，无人配送便陷入低潮，然而九识一路坚挺，在低谷中扩张，打造出爆款无人车。\\n\\n这背后，依靠的是什么：\\n\\n卖整车，卖服务。\\n\\n九识的商业模式与落地场景\\n先来看看商业模式。\\n\\n虽然是ToB，但九识的销售方式，有点像个别新势力，既有直营也有经销商网络，有的代理甚至是九识的早期用户发展而来。\\n\\n对外销售整车的同时，还有九识还收取软件订阅费：\\n\\n自动驾驶软件FSD，正儿八经的L4级自动驾驶程序，不是“某家”一直自称的L2+。\\n\\n过去是按年收取，第一年是3万元，连续包年的话第二年以后就是2.5万元。\\n\\n\\n\\n随着新品上市，软件订阅服务也迎来更新，支持季度收费了：\\n\\n\\n\\n对外销售整车，提供软件订阅，而不是直接下场搞配送，这使得九识的产品，能有更广阔的落地场景，而不是局限于校园等地方，能获得更大的体量，接近实现商业闭环。\\n\\n目前交付给客户，可以做生鲜和快递等配送服务。\\n\\n未来也会下乡镇，上矿区。\\n\\n这是九识自己的设想，在客户们的DIY下，无人车还走上了未曾设想的场景：\\n\\n比如街道巡逻、景区观光或者垃圾清运。\\n\\n\\n\\n其实除此以外，产品还可以推向更多的场景，更大规模的铺开，然而却面临着一些问题。\\n\\n与多数L4玩家不同的是，在九识看来，当前的主要瓶颈并非是技术。\\n\\n在外，主要是路权的开放，这需要相关部门去推动。\\n\\n在内，则是服务体系建设，客户对此的重视，甚至超过了产品价格本身。\\n\\n目前九识已经建设了超230个运营网点，未来还会继续扩大规模。\\n\\n毕竟，产品要开始上量了，配套的服务当然得跟上。\\n\\n带领九识在低谷中扩张，在低潮中逆流而上，一路走到今天的，是一批自动驾驶大牛。\\n\\n谁打造了九识智能？\\n创始人孔旗，本硕毕业于上海交大计算机软件与理论专业，师从AI大牛吕宝粮教授（现为上海交大清源研究院执行院长）。\\n\\n\\n\\n2011年硕士毕业后，入职百度，一度是百度自动驾驶车辆的首席架构师和技术负责人。\\n\\n7年以后，也就是2018年，孔旗离开百度，加盟京东任副总裁、京东物流自动驾驶总经理兼首席科学家。\\n\\n其带领研发的产品，曾在2020年承担武汉第九医院的配送任务。\\n\\n后来在2021年底，孔旗被曝从京东离职，等名字再度显现于江湖时，已和九识智能绑定在一起。\\n\\n只是最初，站在台前被更多人注意到的并非是孔旗，而是另一位联合创始人庄立，他是九识的法人。\\n\\n\\n\\n庄立，浙江农林大学本科毕业，后前往杭州电子科技大学计算机专业攻读硕士学位。\\n\\n2012年硕士毕业后，也就是孔旗加入百度的第二年，庄立入职百度，负责过自动驾驶PnC架构的设计和运行。\\n\\n2019年1月，他离开百度来到京东物流，担任高级科学家，主要从事自动驾驶技术研发，此时孔旗已经是京东物流的首席科学家。\\n\\n庄立在九识主要负责软件工作，硬件则由另一位联合创始人张旭琛负责。\\n\\n\\n\\n张旭琛本硕毕业于上海交通大学电子系，是美国佐治亚理工大学电子与计算机系博士，曾在自动驾驶超级独角兽Waymo负责过硬件架构工作。\\n\\n九识的部分创始成员，包括孔旗，曾真的去一线送过快递，感知落地场景的痛点。\\n\\n因为体验，所以看见。因为看见，所以相信。\\n\\n如今，他们已经在用自动驾驶技术，改造着传统行业，也同时激励着新兴行业。\\n\\n\\n\\n在谈到如何看待行业现状时，九识透露，其实从去年下半年开始，无人配送行业重新有了热度。\\n\\n“行业能算清楚账了。”\\n\\n对客户来说，投放无人车能够降本。对九识这种供应商来说，也看到了“盈利的时间点”。\\n\\n所以，这次的新品发布会，可以视作一个节点。\\n\\n无人车已经可以做到3.98万元，解决了无人配送落地的最大痛点：成本。\\n\\n对客户来说，降本效果立竿见影，会有更多人愿意买。\\n\\n对厂家来说，更多的用户能加速数据迭代和算法升级，迈向良性循环。\\n\\n忽如一夜春风来，无人配送遍地开的日子，不远了。\\n\\n本文来自微信公众号“智能车参考”（ID：AI4Auto），作者：一凡，36氪经授权发布。\\n\\n该文观点仅代表作者本人，36氪平台仅提供信息存储空间服务。'), Document(metadata={'source': '/content/drive/MyDrive/Colab Notebooks/docs/夏天最暴利生意，直击年轻人软肋.txt'}, page_content='夏天最暴利生意，直击年轻人软肋\\n金错刀\\n·2024-06-29 21:48\\n关注\\n一杯要价9块，买杯冰块都要被刺？\\n\\n\\n老板卖红薯、主播直播晕倒...“雪糕刺客”钟薛高，现在在艰难求生。\\n\\n\\n\\n钟薛高还没摆脱危机，冰柜里的“刺客”却早已换了身份。\\n\\n前不久，有人在小红书上吐槽“买了个冰杯花了9块钱！明明可以去抢劫，却还送我块冰。”\\n\\n\\n\\n不少人发现，便利店的冰杯成了新任“刺客”。\\n\\n一个杯子里装点冰，便宜的能卖2～3块，贵的甚至能卖8～9块。\\n\\n过去，要一杯冰，是肯德基和麦当劳的常规操作；而如今，买一杯冰还要面临被刺的风险。\\n\\n但就是这么个“杯子装点冰”的操作，引来了很多大牌下场。\\n\\n\\n\\n就在前几个月，农夫山泉、蜜雪冰城都推出了自己的冰杯；便利蜂、7-11、罗森等便利店更是全面上架冰杯产品。\\n\\n在小红书等社交平台上，冰杯调配饮料也成为新的热门话题。\\n\\n如何用一杯冰为基础，调配出各大咖啡店的同款甚至自己的独门秘方成了流量密码，相关帖子就有三万多条。\\n\\n\\n\\n当然，冰杯突然成为网红，背后肯定少不了商家的默默助力。\\n\\n让人疑惑的是，看似没什么“商业前景”的冰杯，怎么就成了新的商机的？\\n\\n一块冰9块钱！年轻人甘愿被“抢”\\n关于冰块，打工人似乎有两套评价标准。\\n\\n年初，瑞幸咖啡就因为冰块被全网吐槽，有人发现，瑞幸一杯咖啡里半杯都是冰，不能选择少冰或者去冰，而且冰块异常瓷实，不容易化。\\n\\n\\n\\n很多人都不满瑞幸的做法，认为这是偷工减料，咖啡没多少，冰块一大堆。\\n\\n但是这个夏天，一杯2、3块的冰杯捧成了便利店新宠，瑞幸看到估计得气不打一处来。\\n\\n入局冰杯的企业不少，农夫山泉是最显眼的那个。\\n\\n\\n\\n去年，农夫山泉就开始布局冰杯，在杭州等城市试点大受欢迎之后，才把冰杯卖向全国各地。\\n\\n蜜雪冰城也很快嗅到了商机，在一些门店也适时推出了3元的超大冰杯；此外，大桥道、奥雪等冰淇淋品牌也纷纷入局，推出了自己的冰杯产品。\\n\\n各路企业纷纷入局做冰杯，肯定不是一拍脑门就动手，数据和趋势才是第一动力。\\n\\n根据《2023即时零售冰品冰饮消费趋势白皮书》显示，有40%的年轻消费者希望酒水、乳品、饮料在有冰的情况下饮用。\\n\\n\\n\\n在去年，冰杯就有了爆火的迹象。\\n\\n整个2023年7月，美团外卖上食用冰的交易量比去年同期高出了将近182%，专门制作食用冰的商家也比之前多出了90%。\\n\\n7-11、罗森等便利店的冰杯供货商广州冰力达食品也感受了一把风口的滋味。\\n\\n此前，冰力达生产的冰杯年销量也仅有100万～200万杯左右，但是去年一年就卖出了5000万杯。\\n\\n\\n\\n根据预测，我国的冰杯行业市场规模将在2026年高达630亿元。\\n\\n面对如此大的一个市场，巨头们怎能不动心。\\n\\n当然，除了近两年的数据，国外成熟市场也在给巨头们背书。\\n\\n在日韩市场，冰杯已经成为便利店的常驻商品，比如在日本，冰杯一年的销量就能高达25.7亿杯之多，甚至比瓶装水卖得都好。\\n\\n\\n\\n而冰杯不仅在韩国便利店占有同样的销冠地位，甚至和“冻死冰（冻死也要喝冰美式）”成了韩国文化输出的利器。\\n\\n在世界各地的韩国村里，和袋装浓缩咖啡、韩国烧酒等饮料搭配出售的冰杯，成了闻名外网的“韩国土产”以及生活方式。\\n\\n东亚三国文化环境类似，在日韩市场爆火的商品，大概率也能在中国市场爆火已经成为共识。\\n\\n\\n\\n巨头纷纷下场，但是冰杯还得面临一个难题：\\n\\n如何让消费者为这本来就“免费”的冰块掏钱？\\n\\n冰杯“两把刀”，刀刀瞄准打工人钱包\\n冰杯爆火让很多人不解：无非就是一杯冰，咋能卖这么贵？\\n\\n以7-11的冰杯为例，一杯容量为160g的冰杯在罗森的售价为4元，相比之下335ml装的东方树叶也才卖4.5元，水都快比茶贵了。\\n\\n\\n\\n自带口味的冰杯价格往往更高，比如果味的“果音”冰杯，价格往往都5~6元左右，甚至能高达十几块。\\n\\n\\n\\n而在麦当劳和星巴克，只要你开口，就能问服务员要一杯免费冰；即便懒得买，买一个模子或者直接冻一瓶水，都能获得相同体验。\\n\\n即便冰块的价值被认为“无限趋近于0”，但把冰块装进塑料杯，还是能如愿撬开打工人的钱包。\\n\\n“平替”是打工人选择冰杯的第一理由。\\n\\n冰饮料是夏天必备，但仔细一想，随时随地享受一杯加冰饮料似乎相当奢侈。\\n\\n在麦当劳，大杯的加冰可乐就得12元；即便在瑞幸和库迪，加冰的美式也得9.9起。\\n\\n\\n\\n夏日炎炎，在最需要吃点冰的室外，麦当劳、瑞幸等连锁餐饮，似乎成为获得冰块的唯一途径。\\n\\n打工人不得不花上离谱的价格来获取一杯加冰饮料，紧急降低自己逐渐上升的体温。\\n\\n这时候，各大品牌选择在便利店这种打工人专属渠道部署3元的冰杯，就显得很有性价比了。\\n\\n\\n\\n比如，用浓缩咖啡液+冰杯，就能轻易获得咖啡店同款冰美式，比9.9元要便宜；\\n\\n一瓶可乐+冰杯也仅仅需要6元不到，远比麦当劳12元的大杯性价比高；\\n\\n相比饮料，冰杯其实是典型的“互补商品”，单独卖嫌贵，但只要和主体饮料一打包，价值立马就体现了出来。\\n\\n在韩国，浓缩饮料+冰杯已经成为便利店爆品，而中国商家也在推行这一模式。\\n\\n农夫山泉为了推广自家冰杯，就会在便利店推出“一瓶饮料+1元获得冰杯”的活动。\\n\\n\\n\\n在盒马，浓缩饮料液、烈酒和咖啡也会和冰杯一起捆绑售卖。\\n\\n这么看来，冰杯的刀捅的不是打工人的钱包，而是快餐店的后背。\\n\\n当然，平替风潮再进一步，就是DIY风潮。\\n\\n冰杯既然刺了快餐店的后背，也能掀了新茶饮的桌子。\\n\\n\\n\\n如何用冰杯获得一款“网红调配爆款”成了如今上网的必修课。\\n\\n在小红书，如何用伏特加+果汁+冰杯调配鸡尾酒的教学成了流量密码，尽管价值不菲，但是能自己动手获得的成就感，是花钱很难买到的。\\n\\n为了迎合这股子DIY风潮，冰杯厂家也没少花心思。\\n\\n比如有的冰杯就贴心地在里面加入了鲜柠檬片，只要加上雪碧和盐，就能秒变港式茶餐厅里的咸柠七。\\n\\n\\n\\n在高档的酒吧里，能雕刻一颗圆形冰球，成了不少调酒师的拿手好戏，然而在便利店，只要9块钱，就能轻松获得酒吧同款的圆球状冰块。\\n\\n\\n\\n农夫山泉更是会把自家的饮料做成“调配菜单”在网上推广，一面卖了冰杯，一面盘活了多年没有增长的老产品。\\n\\n性价比体现在很多方面，除了成本上的性价比外，仪式感的性价比成了现在年轻人最看重的方面。\\n\\n能让年轻人低成本动手，是最火的生意密码。\\n\\n巨头开卷，年轻人还能“冰块自由”吗？\\n一杯3.5元的农夫山泉冰杯，不仅刺痛了打工人的钱包，也搅浑了食用冰行业的水。\\n\\n第一波被卷起来的企业，正是过去默默制冰的冰厂们。\\n\\n过去食用冰行业基本只做B端生意，在消费者群体中基本没什么知名度。\\n\\n\\n\\n比如广东的冰力达公司，就是制冰行业中“默默无闻”的龙头企业之一。\\n\\n他们有着20多年的制冰经验，不仅是喜茶、茶颜悦色等新茶饮的主要供应商，甚至把产线铺设到了日本和韩国。\\n\\n冰杯突然成为网红单品，冰力达作为食用冰行业大佬，迅速推出了自己的冰杯。\\n\\n毕竟，相比于利润低的B端生意，直面C端用户的生意就“香”不少。\\n\\n但是，还没来得及高兴的冰力达，就得面临农夫山泉、蜜雪冰城等C端大佬的强势围攻。\\n\\n\\n\\n尽管制冰经验充足，但比起渠道和营销，资历再深的制冰大佬也只能服软。\\n\\n感受到压力的传统制冰企业，只能选择价格战。\\n\\n据悉，今年冰力达的出厂价格已经从3元/杯砍到了1.5元/杯，根据食品行业人士分析，将来冰杯的价格会进一步下探。\\n\\n不过，冰杯价格内卷，对消费者来说肯定是十足的好消息。\\n\\n\\n\\n毕竟只是一杯冰，谁都不愿意为了贪一口凉而被背刺。\\n\\n内卷带来的第二改变，则是推动行业规则落地。\\n\\n其实，目前售卖的冰杯，都没有一个明确的国家标准。\\n\\n农夫山泉等大企业推出食用冰，则采用的是SB/T 10017-2008《冷冻饮品食用冰》规定，由中国商业联合会和中国焙烤食品糖制品工业协会共同提出，并非强制标准。\\n\\n而制冰，又是一个门槛极低，且很容易出现食品安全问题的行业。\\n\\n\\n\\n有记者采访厦门的黑冰厂发现：一包10斤重的冰块，电费1元、包装几毛，过滤水用的滤芯也才3~500元，算上人工，成本最多2元。\\n\\n而当时的餐饮渠道购买价格为8元/袋，简直一本万利。\\n\\n过去，黑工厂采用简单过滤后的自来水，甚至湖水直接制冰的例子屡见不鲜。\\n\\n即便不用脏水制冰，为了能给冰增加点口味，冰杯厂家也可能在冰里添加各种科技与狠活儿。\\n\\n\\n\\n2022年，一批名为“雪乐冰”的食用冰产品被抽检不合格，里面的甜蜜素、阿斯巴甜等食品添加剂含量超过了国家食品的标准。\\n\\n比起“钱包刺客”，消费者肯定不希望冰杯成为“健康刺客”。\\n\\n冰杯能从网红单品成为便利店常青树，相关的行业规范必不可少。\\n\\n夏天刚开始，北京的气温就早早飙升到了36℃，食用冰作为最直接的解暑产品，爆火也在情理之中。\\n\\n\\n\\n对于每一个顶着烈日上班的打工族来说，“冰块自由”的需求只能越来越强烈。\\n\\n不过，再强烈的需求，向来不是成为刺客的理由。'), Document(metadata={'source': '/content/drive/MyDrive/Colab Notebooks/docs/8家消费公司拿到新钱;霸王茶姬高薪招香港店长;一季度快消品平均售价同比降1.5%｜创投大视野.txt'}, page_content='8家消费公司拿到新钱;霸王茶姬高薪招香港店长;一季度快消品平均售价同比降1.5%｜创投大视野\\n任彩茹\\n·2024-06-30 09:58\\n关注\\n离你最近的消费创投一线。\\n\\n霸王茶姬\\nB轮\\n云南省\\n2017-06\\n新中式国风茶饮品牌\\n36氪报道\\n消费电商\\nWISE2023年度企业榜单-消费生活\\n36Under36\\nFUTURE2022消费新势力\\nWISE2022年度企业\\n我要联系\\n整理｜任彩茹\\n\\n编辑｜杨亚飞\\n\\nBusy Money\\n•「不停科技」完成近亿元A+轮融资\\n\\n\\n\\n数字厨房理念图\\n\\n硬氪获悉，「不停科技」近日完成近亿元A+轮融资，本次由华山资本领投，老股东高秉强教授生态圈基金未来科技参与投资，老股东李泽湘教授旗下清水湾基金、甘洁教授旗下知行一号基金连续三轮继续超额加持。星辰资本担任后续融资独家财务顾问。\\n\\n不停科技面向全球市场提供软硬件一体的AI数字厨房整体解决方案，通过智能烹饪机器人和智能厨房调度系统等产品，将厨房场景全程数字化，保证菜品的一致性。目前其产品出货17个国家及地区，客户包括世界头部餐饮集团和餐饮运营商，覆盖连锁品牌餐饮、酒店、航空、餐食服务等场景。\\n\\n•「新菁集团」完成千万元天使轮融资\\n\\n据IT桔子，「新菁集团」完成千万元天使轮融资，由星耀影视投资。新菁集团是一家影视剧发行和互联网达人孵化服务商，公司拥有原一线互联网公司的技术和运营团队，主要服务于影视剧发行和互联网达人孵化、运营传播与商业合作等领域。\\n\\n•「微远生物」完成数千万元天使轮融资\\n\\n据动脉网，「微远生物」宣布完成数千万元天使轮融资，由多家产业基金共同投资。微远生物成立于2023年，致力于合成生物学技术的研究与应用，公司主要产品包括酶库设计构建平台和细胞工厂改造平台，为医药、化妆品、食品等领域的企业提供原料和技术解决方案。\\n\\n•「广西立马」以2.1亿元被收购\\n\\n据鲸准，「广西立马」以2.1亿元被收购，投资方为「星星科技」。广西立马是一家电动车生产商，集研发、生产、销售于一体，主要从事电动两轮摩托车、电动自行车的制造及销售业务。\\n\\n•「安帝康生物」完成超2亿元A轮融资\\n\\n据投资界，「安帝康生物」完成超2亿元A轮融资，由先声药业、华金投资与华金大道领投，老股东同创伟业、嘉兴新创创投持续加投，嘉睿未来之星、金沙江联合润璞医疗基金、文周投资、崧泽资本和顺杰健康跟投。\\n\\n安帝康生物是一家专注于呼吸感染和疼痛领域开发创新性治疗药物的创新医药企业，除抗流感新药玛氘诺沙韦、抗呼吸道合胞病毒（RSV）新药ADC789混悬液等产品管线外，还有望填补国内空白的用于治疗子宫内膜异位症和子宫肌瘤的创新药ADC308片。\\n\\n•「吉润置业」作价1.7亿元被收购\\n\\n据鲸准，「吉润置业」作价1.7亿元被收购，投资方为「苏美达集团」。吉润置业是一家房地产租赁服务商，主要从事非居住房地产租赁业务，该公司主要资产为其自建的位于上海市浦东新区的综合研发大楼。\\n\\n•「中软创客」完成3000万元天使轮融资\\n\\n据IT桔子，「中软创客」近日完成3000万元天使轮融资。中软创客是一家大数据营销技术研发与应用服务商，聚焦用户大数据方向，致力于建立用户营销标准化体系，通过收集、分析和利用大数据，挖掘百万亿级的应用营销市场潜力。\\n\\n•「共讯科技」完成1500万元融资\\n\\n据IT桔子，「共讯科技」近日宣布完成1500万元融资。共讯科技是一家无人零售解决方案提供商，凭借其自主研发的线下智能售货终端系统，为合作商户打造竞争优势，已成功孵化四大热门项目：24小时成人用品无人店、美团闪电云商店、宠物无人仓和美妆闪电仓。\\n\\n公司情报\\n•「霸王茶姬」高薪招香港店长\\n\\n霸王茶姬去香港会经历什么？\\n\\n社媒信息显示，霸王茶姬位于尖沙咀K11的香港首店已围挡，从围挡信息来看，正式开业时间为8月。霸王茶姬此前曾在香港招聘网站上发布招聘信息，开出的店长职位薪酬为1.8万-2.5万港元，门店店员培训期间的工资约1.45万港元，前者比蜜雪冰城早前招聘铜锣湾门店店长时开出的薪水还略高。\\n\\n内地的新茶饮品牌和咖啡品牌纷纷进军香港，但高昂的人力成本和租金成本是个问题。据界面报道，香港洗碗工月薪能高达1.8万，因此霸王茶姬、蜜雪冰城开出的“高薪”在当地只能勉强称上正常水平。据香港媒体测算，蜜雪冰城旺角店需月售两万杯才能承担20万的月租。\\n\\n这已经对一些赴港扩张的内地品牌造成了阻碍。柠檬茶品牌“柠濛濛”、湘菜品牌“萝卜向南”等都已被曝关闭香港门店。背后的本质问题在于，内地的性价比优势是否能在香港本土实现，manner、星巴克、蜜雪冰城在香港的门店均设置了高于内地的定价。如今，香港和内地全面通关，“港人北上”成为颇为便利的风潮，野心勃勃的霸王茶姬需要更灵活的准备。\\n\\n•「小罐茶」创始人为营销套路致歉\\n\\n小罐茶希望尽快摆脱“强营销”的过去。\\n\\n6月25日，小罐茶创始人杜国楹在12周年发布上回应长期以来公众对“大师作”这一标签的争议。“大师作”的宣传语曾因是否由大师亲手做的问题引发诸多争议，杜国楹表示，企业广告语对大家造成了困扰，自己反思多年，郑重向大家道歉。\\n\\n如今，大众消费者对过度营销、智商税的抵触越来越高，小罐茶的日子也过得不太好。据界面报道，小罐茶近90天新开33家门店，新关59家；门店总数由2023年12月的1002家下滑到眼下的626家。按此计算，小罐茶在半年内关闭了376家门店。\\n\\n消费的大环境在发生变化，品牌也要顺势而变。道歉完毕后，杜国楹话锋一转，宣布小罐茶的135项制茶专利无偿向社会开源，霸王茶姬成为其专利开源的首位授予伙伴。此外，他们还将大力发展平价产品线“小罐茶园”，定位生活口粮茶，售价在100-300元/斤。\\n\\n•「大窑饮品」加入无糖茶大战\\n\\n大窑不只满足于汽水市场了。\\n\\n6月28日，大窑通过微信公众号宣布，设立新品牌“查元香”，同步推出金桂乌龙、白兰乌龙、乌龙茶3款茶饮新品。紧跟当下的无糖茶趋势，上述新品的亮点也是0糖、0脂肪、0能量，终端售价4-5元。在更早前的2022年，大窑已经启用过查元香品牌，在电商渠道售卖其果汁气泡茶产品。\\n\\n爆火的无糖茶很难让人不眼红。农夫山泉的茶饮产品在2023年录得126.59亿元收入，较2022年增长83.3%，占总收入的29.7%，已然扛起第二增长曲线的担子。尼尔森数据也显示，东方树叶在截至2023年8月的12个月内同比增长114%，增速超过即饮茶行业整体增速9倍。\\n\\n据马上赢数据，无糖即饮茶类目中，农夫山泉和三得利的市场份额之和超过75%，即便如此，还有一众品牌在进入这一领域。也正因参与者众多，茶饮料的利润空间和竞争局面都不容太乐观。比如，东方树叶靠相对低价的大包装产品来营造“实惠感”，最大对手三得利也将批发价紧紧咬住。\\n\\n据悉，大窑此次的新尝试也将延续以往优势，从餐饮渠道出发，但茶饮料是否能和餐渠实现最好的适配还需验证。\\n\\n未来Idea\\n• 好利来旗下「BLACKSWAN黑天鹅法餐厅」开业\\n\\n好利来在餐饮领域持续“搞事情”。\\n\\n6月25日，好利来官方公众号发文称，集团旗下全新BLACKSWAN黑天鹅法餐厅当日正式开业。该餐厅位于北京风景如画的罗红摄影艺术馆内，毗邻天鹅湖畔。餐厅由知名建筑事务所Chris Shao Studio设计，总面积1300平米，天鹅的轻盈与纯粹也被延续到该店的空间美学之中。\\n\\n好利来兼黑天鹅执行总裁罗昊，去年创立EHB餐厅，半年后便摘得米其林一星，此次的新餐厅是好利来在餐饮领域的又一次重要动作。据悉，该餐厅配备11张桌子，可容纳47名顾客，一共有4个包间，每个包间可容纳6-12人不等，总桌位达到90个。为保证高级定制的服务体验，大厅与包间每晚同时接待不会超过35人。\\n\\n•「源氏木语」上海首家千坪旗舰店开业\\n\\n\\n\\n源氏木语位于上海徐汇万科的旗舰店\\n\\n源氏木语加速奔跑。\\n\\n36氪获悉，源氏木语徐汇万科旗舰店开业，这是源氏木语在上海精心打造的首家千平旗舰店，占地共1200平方米。同时，源氏木语2024年线下门店即将突破1000家，加速跑入千店时代。\\n\\n据悉，上海徐汇万科旗舰店的展示产品超千件，除实木材质产品外，还增加黑标系列等旗舰产品。此外，该店还设置了“儿童成长专区”和“0胶水床垫·睡眠专区”等区域，前者可根据独生和多娃家庭的不同需求提供多元的空间设计选择，后者则用全线0胶水床垫展现品牌对消费者健康和生活品质的重视。\\n\\n•「巴奴毛肚火锅」浙江首店落地\\n\\n巴奴的扩张再下一城。\\n\\n据赢商网报道，来自河南的火锅品牌巴奴毛肚火锅浙江首店于湖滨银泰in77C3区3层围挡。这家以毛肚为特色的川式火锅直营连锁品牌，于2001年在河南安阳成立，其代表性原创单品还有巴奴拽面、茴香小油条、巴奴擀面皮、番茄辣锅底等。\\n\\n根植于河南，这里也成为巴奴落地门店最多的省份。2009年起，巴奴的异地扩张才开始提速，目前在全国30多座城市有超110家直营门店，此次落地的新店是其进入浙江省的一个节点。\\n\\n数读消费\\n• 一季度中国快消品平均售价同比降1.5%\\n\\n\\n\\n《2024年中国购物者报告，系列一》节选\\n\\n中国消费市场正在适应新现实：温和增长，价格持续承压。\\n\\n凯度消费者指数与贝恩公司联合发布《2024年中国购物者报告，系列一》显示，中国快消品市场在2023年全年实现了2.4%的销售额同比增长，落后于中国GDP增长率（5.2%）和社会消费品零售总额增长率（7.2%，不包括餐饮），疫情后家外消费复苏是影响增速的一部分原因。快消品的销量全年增长2.4%，平均售价全年保持相对稳定。\\n\\n来到2024年一季度后，中国快消品销量增长3.5%，推动销售额增长2.0%左右，比2023年同期增速高出0.5个百分点。销量的增长表明消费者依然具有较强的消费需求。然而，平均售价同比下降1.5%，打破了2023年的平稳态势。\\n\\n从城市层级看，二线城市成为快消品市场增长的主要推动力。过去四年，二线城市虹吸了大量周边人口，移居到二线城市的人口数量超过了800万。这使得二线城市成为大多数快消品品牌的“兵家必争之地”。\\n\\n• 1/4 的Z世代购买决策受动物友好理念影响\\n\\nZ世代已经登上舞台。\\n\\n尼尔森IQ与WDL联合发布的首份《Z 世代消费报告》显示，预计到 2030 年，全球Z 世代市场的购买能力将达到 12 万亿美元。该报告中的Z 世代定义为1997 年至 2012 年出生的人，也被称为第一批真正的数据原住民。\\n\\n健康依然是Z世代所定义的“美好生活”的第一位。上述报告显示，超过50%的Z世代使用过健身或锻炼应用程序，17%的Z世代使用过健身手环来跟踪健康和健身信息。在国内，网络上的一些段子“枸杞泡酒”等等，都可以证明青年人的健康意识觉醒。\\n\\n除此之外，在Z世代的消费行为中，归属感、情感价值、社会责任等话题的影响力都明显偏高。77%的Z世代表示他们不会从环保标准差的国家购买商品，同时，他们更喜欢购买可持续品牌，并且愿意为可持续产品多花费10%的钱。而1/4 的Z世代表示，动物友好的制造过程会影响他们的购买决策。\\n\\n• 京东底妆：百元内下滑19.6%,800元以上增长19.3%\\n\\n青眼情报数据显示，近12个月京东底妆类目GMV为8.15亿元，同比下降4.6%。\\n\\n这一数据或许显示出，消费者对底妆的需求正朝着高端化发展。据青眼统计，近12个月京东底妆销售相对平稳，GMV有小幅度下滑。800-1000元价格段底妆GMV同比增长超25%。此外，在TOP10品牌中，国产品牌仅占3席，GMV占比17.7%，这一类目的外资品牌优势明显。\\n\\n从位列品牌榜TOP1的雅诗兰黛来看，近12个月雅诗兰黛在京东底妆类目GMV最高的3个单品，分别是雅诗兰黛DW持妆粉底液17#象牙白、雅诗兰黛沁水粉底液61#象牙白冷、雅诗兰黛DW持妆粉底液62#自然偏白，三者GMV占雅诗兰黛底妆总体GMV的51.7%。'), Document(metadata={'source': '/content/drive/MyDrive/Colab Notebooks/docs/英超信息.txt'}, page_content='2023-2024赛季英超已经结束，阿森纳队获得89分，但仍然落后曼城队2分，曼城实现英超四连冠。由于近期多位主帅都发表了自己对VAR技术的看法，太阳报也列出了在没有VAR的情况下，本赛季的英超积分榜。前五名的名次完全不变，阿森纳积分将加1分，达到，但仍落后曼城1分。得到1分的纽卡将反超失去2分的切尔西，排名英超第6。降级的三支球队卢顿、伯恩利、谢菲尔德联的排名也没有变化。\\n\\n下月，英超各队将根据狼队动议，就是否废除VAR进行投票。《太阳报》日前制作了“无VAR英超积分榜”，统计如果本赛季没有VAR，各队会是怎样的积分和排名。这种简单粗暴的加减法当然不尽科学，但仍可参考。不难发现，有12支球队排名不变，变幅最大的是布莱顿会因为没有VAR而多拿5分。而前5球队，排名完全不变。可见，VAR今天取消你一个进球，明天就可能取消对手一个进球，各队“吃亏”“占便宜”总体守恒，只不过占便宜不容易记住，吃亏一次就容易觉得被坑一年。')]\n"
          ]
        }
      ]
    },
    {
      "cell_type": "markdown",
      "source": [
        "**3.数据分块**\n",
        "* CharacterTextSplitter：用于将文档分成较小的块。chunk_size=1024 表示每个块的最大字符数为 1024，chunk_overlap=128 表示相邻块之间有 128 字符的重叠。\n",
        "* chunks：分割后的文档块列表。"
      ],
      "metadata": {
        "id": "ZjugqzObTRuA"
      }
    },
    {
      "cell_type": "code",
      "source": [
        "#数据分块\n",
        "text_splitter = CharacterTextSplitter(chunk_size=1024, chunk_overlap=128)\n",
        "chunks = text_splitter.split_documents(documents)\n",
        "print(chunks)"
      ],
      "metadata": {
        "colab": {
          "base_uri": "https://localhost:8080/"
        },
        "id": "cXQn7ULXwYvq",
        "outputId": "081b2d8d-fc67-4bb9-c0b5-08c5ebb57e68"
      },
      "execution_count": null,
      "outputs": [
        {
          "output_type": "stream",
          "name": "stdout",
          "text": [
            "[Document(metadata={'source': '/content/drive/MyDrive/Colab Notebooks/docs/3.98万L4无人车来了！卷出行业新低，1小时卖掉半年产能.txt'}, page_content='3.98万L4无人车来了！卷出行业新低，1小时卖掉半年产能\\n智能车参考\\n·2024-06-29 14:37\\n关注\\n苏州L4玩家九识打造。\\n3.98万起，最便宜无人车来了。\\n\\n不到4万元，实现L4级自动驾驶，能送快递、生鲜和外卖。\\n\\n一经推出，产品直接爆单，1小时卖掉半年产能。\\n\\n打造爆款无人车的，是来自苏州的**九识智能，创立仅三年，产品服务已覆盖上百座城市，累计送单数破亿。\\n\\n3.98万起，最便宜的无人车来了\\n九识智能首场新品发布会，实际是发布了一个无人配送“车队”：\\n\\n根据客户对装载方式和空间的不同需求，推出了Z2，Z5 2024，Z8和Z10等多款产品，产品数字即可装载的空间大小，覆盖2m³-10m³区间，价格如下：\\n\\n这里面有的是新推出的产品，比如Z10，售价8.98万元，车长超4米，续航210km，满载重量1.5吨。\\n\\n也有老款升级换代，比如Z5(图为板车车型)，售价4.98万元，也是九识过去的主力车型：\\n\\n新Z5主要是对外观、功能和算法进行了升级：\\n\\n外观方面，车身稍微改动以降低风阻实现更长续航。\\n\\n同时将传感器融入车身，能适应更窄的道路。\\n\\n功能方面，车头换了新的大灯，光照范围更大，车身提示灯也更容易了解车况，车内也安装了监控。\\n\\n作为主力车型，Z5的售价还不到5万元，相比人工成本要低的多，发布会现场有客户透露“省钱50%都不止”。\\n\\n九识为什么能把无人车的价格做的这么低？\\n\\n对此，九识表示，主要通过两个手段：\\n\\n产品开发上，在保证产品功能不受影响的前提下，积极寻求更低成本的硬件替代。\\n\\n运营销售上，追求量的扩大，摊薄成本，实现“薄利多销”。\\n\\n售价虽然不高，硬核配置也不少：\\n\\n英伟达双Orin，提供512TOPS的算力。\\n\\n4颗激光雷达+5个毫米波雷达+12个超声波雷达+14个摄像头，感知范围超300m。\\n\\n说完硬件配置，再来看看软件算法：\\n\\n全新架构ZOE 2.0升级，采用雨雪滤波算法，让无人车能顶风冒雪配送。\\n\\n虽然目前配送借助了高精地图，但是在一些无图或者无法定位的特殊路段，九识依然有办法克服，高精地图只是让配送更稳定、加快无人车配送的手段。\\n\\n伴随着一系列重磅产品发布升级，九识智能，这位来自苏州的自动驾驶玩家，走上台前。\\n\\n创立于2021年8月，此后不久，无人配送便陷入低潮，然而九识一路坚挺，在低谷中扩张，打造出爆款无人车。\\n\\n这背后，依靠的是什么：\\n\\n卖整车，卖服务。'), Document(metadata={'source': '/content/drive/MyDrive/Colab Notebooks/docs/3.98万L4无人车来了！卷出行业新低，1小时卖掉半年产能.txt'}, page_content='伴随着一系列重磅产品发布升级，九识智能，这位来自苏州的自动驾驶玩家，走上台前。\\n\\n创立于2021年8月，此后不久，无人配送便陷入低潮，然而九识一路坚挺，在低谷中扩张，打造出爆款无人车。\\n\\n这背后，依靠的是什么：\\n\\n卖整车，卖服务。\\n\\n九识的商业模式与落地场景\\n先来看看商业模式。\\n\\n虽然是ToB，但九识的销售方式，有点像个别新势力，既有直营也有经销商网络，有的代理甚至是九识的早期用户发展而来。\\n\\n对外销售整车的同时，还有九识还收取软件订阅费：\\n\\n自动驾驶软件FSD，正儿八经的L4级自动驾驶程序，不是“某家”一直自称的L2+。\\n\\n过去是按年收取，第一年是3万元，连续包年的话第二年以后就是2.5万元。\\n\\n随着新品上市，软件订阅服务也迎来更新，支持季度收费了：\\n\\n对外销售整车，提供软件订阅，而不是直接下场搞配送，这使得九识的产品，能有更广阔的落地场景，而不是局限于校园等地方，能获得更大的体量，接近实现商业闭环。\\n\\n目前交付给客户，可以做生鲜和快递等配送服务。\\n\\n未来也会下乡镇，上矿区。\\n\\n这是九识自己的设想，在客户们的DIY下，无人车还走上了未曾设想的场景：\\n\\n比如街道巡逻、景区观光或者垃圾清运。\\n\\n其实除此以外，产品还可以推向更多的场景，更大规模的铺开，然而却面临着一些问题。\\n\\n与多数L4玩家不同的是，在九识看来，当前的主要瓶颈并非是技术。\\n\\n在外，主要是路权的开放，这需要相关部门去推动。\\n\\n在内，则是服务体系建设，客户对此的重视，甚至超过了产品价格本身。\\n\\n目前九识已经建设了超230个运营网点，未来还会继续扩大规模。\\n\\n毕竟，产品要开始上量了，配套的服务当然得跟上。\\n\\n带领九识在低谷中扩张，在低潮中逆流而上，一路走到今天的，是一批自动驾驶大牛。\\n\\n谁打造了九识智能？\\n创始人孔旗，本硕毕业于上海交大计算机软件与理论专业，师从AI大牛吕宝粮教授（现为上海交大清源研究院执行院长）。\\n\\n2011年硕士毕业后，入职百度，一度是百度自动驾驶车辆的首席架构师和技术负责人。\\n\\n7年以后，也就是2018年，孔旗离开百度，加盟京东任副总裁、京东物流自动驾驶总经理兼首席科学家。\\n\\n其带领研发的产品，曾在2020年承担武汉第九医院的配送任务。\\n\\n后来在2021年底，孔旗被曝从京东离职，等名字再度显现于江湖时，已和九识智能绑定在一起。\\n\\n只是最初，站在台前被更多人注意到的并非是孔旗，而是另一位联合创始人庄立，他是九识的法人。'), Document(metadata={'source': '/content/drive/MyDrive/Colab Notebooks/docs/3.98万L4无人车来了！卷出行业新低，1小时卖掉半年产能.txt'}, page_content='其带领研发的产品，曾在2020年承担武汉第九医院的配送任务。\\n\\n后来在2021年底，孔旗被曝从京东离职，等名字再度显现于江湖时，已和九识智能绑定在一起。\\n\\n只是最初，站在台前被更多人注意到的并非是孔旗，而是另一位联合创始人庄立，他是九识的法人。\\n\\n庄立，浙江农林大学本科毕业，后前往杭州电子科技大学计算机专业攻读硕士学位。\\n\\n2012年硕士毕业后，也就是孔旗加入百度的第二年，庄立入职百度，负责过自动驾驶PnC架构的设计和运行。\\n\\n2019年1月，他离开百度来到京东物流，担任高级科学家，主要从事自动驾驶技术研发，此时孔旗已经是京东物流的首席科学家。\\n\\n庄立在九识主要负责软件工作，硬件则由另一位联合创始人张旭琛负责。\\n\\n张旭琛本硕毕业于上海交通大学电子系，是美国佐治亚理工大学电子与计算机系博士，曾在自动驾驶超级独角兽Waymo负责过硬件架构工作。\\n\\n九识的部分创始成员，包括孔旗，曾真的去一线送过快递，感知落地场景的痛点。\\n\\n因为体验，所以看见。因为看见，所以相信。\\n\\n如今，他们已经在用自动驾驶技术，改造着传统行业，也同时激励着新兴行业。\\n\\n在谈到如何看待行业现状时，九识透露，其实从去年下半年开始，无人配送行业重新有了热度。\\n\\n“行业能算清楚账了。”\\n\\n对客户来说，投放无人车能够降本。对九识这种供应商来说，也看到了“盈利的时间点”。\\n\\n所以，这次的新品发布会，可以视作一个节点。\\n\\n无人车已经可以做到3.98万元，解决了无人配送落地的最大痛点：成本。\\n\\n对客户来说，降本效果立竿见影，会有更多人愿意买。\\n\\n对厂家来说，更多的用户能加速数据迭代和算法升级，迈向良性循环。\\n\\n忽如一夜春风来，无人配送遍地开的日子，不远了。\\n\\n本文来自微信公众号“智能车参考”（ID：AI4Auto），作者：一凡，36氪经授权发布。\\n\\n该文观点仅代表作者本人，36氪平台仅提供信息存储空间服务。'), Document(metadata={'source': '/content/drive/MyDrive/Colab Notebooks/docs/夏天最暴利生意，直击年轻人软肋.txt'}, page_content='夏天最暴利生意，直击年轻人软肋\\n金错刀\\n·2024-06-29 21:48\\n关注\\n一杯要价9块，买杯冰块都要被刺？\\n\\n\\n老板卖红薯、主播直播晕倒...“雪糕刺客”钟薛高，现在在艰难求生。\\n\\n钟薛高还没摆脱危机，冰柜里的“刺客”却早已换了身份。\\n\\n前不久，有人在小红书上吐槽“买了个冰杯花了9块钱！明明可以去抢劫，却还送我块冰。”\\n\\n不少人发现，便利店的冰杯成了新任“刺客”。\\n\\n一个杯子里装点冰，便宜的能卖2～3块，贵的甚至能卖8～9块。\\n\\n过去，要一杯冰，是肯德基和麦当劳的常规操作；而如今，买一杯冰还要面临被刺的风险。\\n\\n但就是这么个“杯子装点冰”的操作，引来了很多大牌下场。\\n\\n就在前几个月，农夫山泉、蜜雪冰城都推出了自己的冰杯；便利蜂、7-11、罗森等便利店更是全面上架冰杯产品。\\n\\n在小红书等社交平台上，冰杯调配饮料也成为新的热门话题。\\n\\n如何用一杯冰为基础，调配出各大咖啡店的同款甚至自己的独门秘方成了流量密码，相关帖子就有三万多条。\\n\\n当然，冰杯突然成为网红，背后肯定少不了商家的默默助力。\\n\\n让人疑惑的是，看似没什么“商业前景”的冰杯，怎么就成了新的商机的？\\n\\n一块冰9块钱！年轻人甘愿被“抢”\\n关于冰块，打工人似乎有两套评价标准。\\n\\n年初，瑞幸咖啡就因为冰块被全网吐槽，有人发现，瑞幸一杯咖啡里半杯都是冰，不能选择少冰或者去冰，而且冰块异常瓷实，不容易化。\\n\\n很多人都不满瑞幸的做法，认为这是偷工减料，咖啡没多少，冰块一大堆。\\n\\n但是这个夏天，一杯2、3块的冰杯捧成了便利店新宠，瑞幸看到估计得气不打一处来。\\n\\n入局冰杯的企业不少，农夫山泉是最显眼的那个。\\n\\n去年，农夫山泉就开始布局冰杯，在杭州等城市试点大受欢迎之后，才把冰杯卖向全国各地。\\n\\n蜜雪冰城也很快嗅到了商机，在一些门店也适时推出了3元的超大冰杯；此外，大桥道、奥雪等冰淇淋品牌也纷纷入局，推出了自己的冰杯产品。\\n\\n各路企业纷纷入局做冰杯，肯定不是一拍脑门就动手，数据和趋势才是第一动力。\\n\\n根据《2023即时零售冰品冰饮消费趋势白皮书》显示，有40%的年轻消费者希望酒水、乳品、饮料在有冰的情况下饮用。\\n\\n在去年，冰杯就有了爆火的迹象。\\n\\n整个2023年7月，美团外卖上食用冰的交易量比去年同期高出了将近182%，专门制作食用冰的商家也比之前多出了90%。\\n\\n7-11、罗森等便利店的冰杯供货商广州冰力达食品也感受了一把风口的滋味。'), Document(metadata={'source': '/content/drive/MyDrive/Colab Notebooks/docs/夏天最暴利生意，直击年轻人软肋.txt'}, page_content='在去年，冰杯就有了爆火的迹象。\\n\\n整个2023年7月，美团外卖上食用冰的交易量比去年同期高出了将近182%，专门制作食用冰的商家也比之前多出了90%。\\n\\n7-11、罗森等便利店的冰杯供货商广州冰力达食品也感受了一把风口的滋味。\\n\\n此前，冰力达生产的冰杯年销量也仅有100万～200万杯左右，但是去年一年就卖出了5000万杯。\\n\\n根据预测，我国的冰杯行业市场规模将在2026年高达630亿元。\\n\\n面对如此大的一个市场，巨头们怎能不动心。\\n\\n当然，除了近两年的数据，国外成熟市场也在给巨头们背书。\\n\\n在日韩市场，冰杯已经成为便利店的常驻商品，比如在日本，冰杯一年的销量就能高达25.7亿杯之多，甚至比瓶装水卖得都好。\\n\\n而冰杯不仅在韩国便利店占有同样的销冠地位，甚至和“冻死冰（冻死也要喝冰美式）”成了韩国文化输出的利器。\\n\\n在世界各地的韩国村里，和袋装浓缩咖啡、韩国烧酒等饮料搭配出售的冰杯，成了闻名外网的“韩国土产”以及生活方式。\\n\\n东亚三国文化环境类似，在日韩市场爆火的商品，大概率也能在中国市场爆火已经成为共识。\\n\\n巨头纷纷下场，但是冰杯还得面临一个难题：\\n\\n如何让消费者为这本来就“免费”的冰块掏钱？\\n\\n冰杯“两把刀”，刀刀瞄准打工人钱包\\n冰杯爆火让很多人不解：无非就是一杯冰，咋能卖这么贵？\\n\\n以7-11的冰杯为例，一杯容量为160g的冰杯在罗森的售价为4元，相比之下335ml装的东方树叶也才卖4.5元，水都快比茶贵了。\\n\\n自带口味的冰杯价格往往更高，比如果味的“果音”冰杯，价格往往都5~6元左右，甚至能高达十几块。\\n\\n而在麦当劳和星巴克，只要你开口，就能问服务员要一杯免费冰；即便懒得买，买一个模子或者直接冻一瓶水，都能获得相同体验。\\n\\n即便冰块的价值被认为“无限趋近于0”，但把冰块装进塑料杯，还是能如愿撬开打工人的钱包。\\n\\n“平替”是打工人选择冰杯的第一理由。\\n\\n冰饮料是夏天必备，但仔细一想，随时随地享受一杯加冰饮料似乎相当奢侈。\\n\\n在麦当劳，大杯的加冰可乐就得12元；即便在瑞幸和库迪，加冰的美式也得9.9起。\\n\\n夏日炎炎，在最需要吃点冰的室外，麦当劳、瑞幸等连锁餐饮，似乎成为获得冰块的唯一途径。\\n\\n打工人不得不花上离谱的价格来获取一杯加冰饮料，紧急降低自己逐渐上升的体温。\\n\\n这时候，各大品牌选择在便利店这种打工人专属渠道部署3元的冰杯，就显得很有性价比了。'), Document(metadata={'source': '/content/drive/MyDrive/Colab Notebooks/docs/夏天最暴利生意，直击年轻人软肋.txt'}, page_content='夏日炎炎，在最需要吃点冰的室外，麦当劳、瑞幸等连锁餐饮，似乎成为获得冰块的唯一途径。\\n\\n打工人不得不花上离谱的价格来获取一杯加冰饮料，紧急降低自己逐渐上升的体温。\\n\\n这时候，各大品牌选择在便利店这种打工人专属渠道部署3元的冰杯，就显得很有性价比了。\\n\\n比如，用浓缩咖啡液+冰杯，就能轻易获得咖啡店同款冰美式，比9.9元要便宜；\\n\\n一瓶可乐+冰杯也仅仅需要6元不到，远比麦当劳12元的大杯性价比高；\\n\\n相比饮料，冰杯其实是典型的“互补商品”，单独卖嫌贵，但只要和主体饮料一打包，价值立马就体现了出来。\\n\\n在韩国，浓缩饮料+冰杯已经成为便利店爆品，而中国商家也在推行这一模式。\\n\\n农夫山泉为了推广自家冰杯，就会在便利店推出“一瓶饮料+1元获得冰杯”的活动。\\n\\n在盒马，浓缩饮料液、烈酒和咖啡也会和冰杯一起捆绑售卖。\\n\\n这么看来，冰杯的刀捅的不是打工人的钱包，而是快餐店的后背。\\n\\n当然，平替风潮再进一步，就是DIY风潮。\\n\\n冰杯既然刺了快餐店的后背，也能掀了新茶饮的桌子。\\n\\n如何用冰杯获得一款“网红调配爆款”成了如今上网的必修课。\\n\\n在小红书，如何用伏特加+果汁+冰杯调配鸡尾酒的教学成了流量密码，尽管价值不菲，但是能自己动手获得的成就感，是花钱很难买到的。\\n\\n为了迎合这股子DIY风潮，冰杯厂家也没少花心思。\\n\\n比如有的冰杯就贴心地在里面加入了鲜柠檬片，只要加上雪碧和盐，就能秒变港式茶餐厅里的咸柠七。\\n\\n在高档的酒吧里，能雕刻一颗圆形冰球，成了不少调酒师的拿手好戏，然而在便利店，只要9块钱，就能轻松获得酒吧同款的圆球状冰块。\\n\\n农夫山泉更是会把自家的饮料做成“调配菜单”在网上推广，一面卖了冰杯，一面盘活了多年没有增长的老产品。\\n\\n性价比体现在很多方面，除了成本上的性价比外，仪式感的性价比成了现在年轻人最看重的方面。\\n\\n能让年轻人低成本动手，是最火的生意密码。\\n\\n巨头开卷，年轻人还能“冰块自由”吗？\\n一杯3.5元的农夫山泉冰杯，不仅刺痛了打工人的钱包，也搅浑了食用冰行业的水。\\n\\n第一波被卷起来的企业，正是过去默默制冰的冰厂们。\\n\\n过去食用冰行业基本只做B端生意，在消费者群体中基本没什么知名度。\\n\\n比如广东的冰力达公司，就是制冰行业中“默默无闻”的龙头企业之一。\\n\\n他们有着20多年的制冰经验，不仅是喜茶、茶颜悦色等新茶饮的主要供应商，甚至把产线铺设到了日本和韩国。'), Document(metadata={'source': '/content/drive/MyDrive/Colab Notebooks/docs/夏天最暴利生意，直击年轻人软肋.txt'}, page_content='过去食用冰行业基本只做B端生意，在消费者群体中基本没什么知名度。\\n\\n比如广东的冰力达公司，就是制冰行业中“默默无闻”的龙头企业之一。\\n\\n他们有着20多年的制冰经验，不仅是喜茶、茶颜悦色等新茶饮的主要供应商，甚至把产线铺设到了日本和韩国。\\n\\n冰杯突然成为网红单品，冰力达作为食用冰行业大佬，迅速推出了自己的冰杯。\\n\\n毕竟，相比于利润低的B端生意，直面C端用户的生意就“香”不少。\\n\\n但是，还没来得及高兴的冰力达，就得面临农夫山泉、蜜雪冰城等C端大佬的强势围攻。\\n\\n尽管制冰经验充足，但比起渠道和营销，资历再深的制冰大佬也只能服软。\\n\\n感受到压力的传统制冰企业，只能选择价格战。\\n\\n据悉，今年冰力达的出厂价格已经从3元/杯砍到了1.5元/杯，根据食品行业人士分析，将来冰杯的价格会进一步下探。\\n\\n不过，冰杯价格内卷，对消费者来说肯定是十足的好消息。\\n\\n毕竟只是一杯冰，谁都不愿意为了贪一口凉而被背刺。\\n\\n内卷带来的第二改变，则是推动行业规则落地。\\n\\n其实，目前售卖的冰杯，都没有一个明确的国家标准。\\n\\n农夫山泉等大企业推出食用冰，则采用的是SB/T 10017-2008《冷冻饮品食用冰》规定，由中国商业联合会和中国焙烤食品糖制品工业协会共同提出，并非强制标准。\\n\\n而制冰，又是一个门槛极低，且很容易出现食品安全问题的行业。\\n\\n有记者采访厦门的黑冰厂发现：一包10斤重的冰块，电费1元、包装几毛，过滤水用的滤芯也才3~500元，算上人工，成本最多2元。\\n\\n而当时的餐饮渠道购买价格为8元/袋，简直一本万利。\\n\\n过去，黑工厂采用简单过滤后的自来水，甚至湖水直接制冰的例子屡见不鲜。\\n\\n即便不用脏水制冰，为了能给冰增加点口味，冰杯厂家也可能在冰里添加各种科技与狠活儿。\\n\\n2022年，一批名为“雪乐冰”的食用冰产品被抽检不合格，里面的甜蜜素、阿斯巴甜等食品添加剂含量超过了国家食品的标准。\\n\\n比起“钱包刺客”，消费者肯定不希望冰杯成为“健康刺客”。\\n\\n冰杯能从网红单品成为便利店常青树，相关的行业规范必不可少。\\n\\n夏天刚开始，北京的气温就早早飙升到了36℃，食用冰作为最直接的解暑产品，爆火也在情理之中。\\n\\n对于每一个顶着烈日上班的打工族来说，“冰块自由”的需求只能越来越强烈。\\n\\n不过，再强烈的需求，向来不是成为刺客的理由。'), Document(metadata={'source': '/content/drive/MyDrive/Colab Notebooks/docs/8家消费公司拿到新钱;霸王茶姬高薪招香港店长;一季度快消品平均售价同比降1.5%｜创投大视野.txt'}, page_content='8家消费公司拿到新钱;霸王茶姬高薪招香港店长;一季度快消品平均售价同比降1.5%｜创投大视野\\n任彩茹\\n·2024-06-30 09:58\\n关注\\n离你最近的消费创投一线。\\n\\n霸王茶姬\\nB轮\\n云南省\\n2017-06\\n新中式国风茶饮品牌\\n36氪报道\\n消费电商\\nWISE2023年度企业榜单-消费生活\\n36Under36\\nFUTURE2022消费新势力\\nWISE2022年度企业\\n我要联系\\n整理｜任彩茹\\n\\n编辑｜杨亚飞\\n\\nBusy Money\\n•「不停科技」完成近亿元A+轮融资\\n\\n数字厨房理念图\\n\\n硬氪获悉，「不停科技」近日完成近亿元A+轮融资，本次由华山资本领投，老股东高秉强教授生态圈基金未来科技参与投资，老股东李泽湘教授旗下清水湾基金、甘洁教授旗下知行一号基金连续三轮继续超额加持。星辰资本担任后续融资独家财务顾问。\\n\\n不停科技面向全球市场提供软硬件一体的AI数字厨房整体解决方案，通过智能烹饪机器人和智能厨房调度系统等产品，将厨房场景全程数字化，保证菜品的一致性。目前其产品出货17个国家及地区，客户包括世界头部餐饮集团和餐饮运营商，覆盖连锁品牌餐饮、酒店、航空、餐食服务等场景。\\n\\n•「新菁集团」完成千万元天使轮融资\\n\\n据IT桔子，「新菁集团」完成千万元天使轮融资，由星耀影视投资。新菁集团是一家影视剧发行和互联网达人孵化服务商，公司拥有原一线互联网公司的技术和运营团队，主要服务于影视剧发行和互联网达人孵化、运营传播与商业合作等领域。\\n\\n•「微远生物」完成数千万元天使轮融资\\n\\n据动脉网，「微远生物」宣布完成数千万元天使轮融资，由多家产业基金共同投资。微远生物成立于2023年，致力于合成生物学技术的研究与应用，公司主要产品包括酶库设计构建平台和细胞工厂改造平台，为医药、化妆品、食品等领域的企业提供原料和技术解决方案。\\n\\n•「广西立马」以2.1亿元被收购\\n\\n据鲸准，「广西立马」以2.1亿元被收购，投资方为「星星科技」。广西立马是一家电动车生产商，集研发、生产、销售于一体，主要从事电动两轮摩托车、电动自行车的制造及销售业务。\\n\\n•「安帝康生物」完成超2亿元A轮融资\\n\\n据投资界，「安帝康生物」完成超2亿元A轮融资，由先声药业、华金投资与华金大道领投，老股东同创伟业、嘉兴新创创投持续加投，嘉睿未来之星、金沙江联合润璞医疗基金、文周投资、崧泽资本和顺杰健康跟投。'), Document(metadata={'source': '/content/drive/MyDrive/Colab Notebooks/docs/8家消费公司拿到新钱;霸王茶姬高薪招香港店长;一季度快消品平均售价同比降1.5%｜创投大视野.txt'}, page_content='•「安帝康生物」完成超2亿元A轮融资\\n\\n据投资界，「安帝康生物」完成超2亿元A轮融资，由先声药业、华金投资与华金大道领投，老股东同创伟业、嘉兴新创创投持续加投，嘉睿未来之星、金沙江联合润璞医疗基金、文周投资、崧泽资本和顺杰健康跟投。\\n\\n安帝康生物是一家专注于呼吸感染和疼痛领域开发创新性治疗药物的创新医药企业，除抗流感新药玛氘诺沙韦、抗呼吸道合胞病毒（RSV）新药ADC789混悬液等产品管线外，还有望填补国内空白的用于治疗子宫内膜异位症和子宫肌瘤的创新药ADC308片。\\n\\n•「吉润置业」作价1.7亿元被收购\\n\\n据鲸准，「吉润置业」作价1.7亿元被收购，投资方为「苏美达集团」。吉润置业是一家房地产租赁服务商，主要从事非居住房地产租赁业务，该公司主要资产为其自建的位于上海市浦东新区的综合研发大楼。\\n\\n•「中软创客」完成3000万元天使轮融资\\n\\n据IT桔子，「中软创客」近日完成3000万元天使轮融资。中软创客是一家大数据营销技术研发与应用服务商，聚焦用户大数据方向，致力于建立用户营销标准化体系，通过收集、分析和利用大数据，挖掘百万亿级的应用营销市场潜力。\\n\\n•「共讯科技」完成1500万元融资\\n\\n据IT桔子，「共讯科技」近日宣布完成1500万元融资。共讯科技是一家无人零售解决方案提供商，凭借其自主研发的线下智能售货终端系统，为合作商户打造竞争优势，已成功孵化四大热门项目：24小时成人用品无人店、美团闪电云商店、宠物无人仓和美妆闪电仓。\\n\\n公司情报\\n•「霸王茶姬」高薪招香港店长\\n\\n霸王茶姬去香港会经历什么？\\n\\n社媒信息显示，霸王茶姬位于尖沙咀K11的香港首店已围挡，从围挡信息来看，正式开业时间为8月。霸王茶姬此前曾在香港招聘网站上发布招聘信息，开出的店长职位薪酬为1.8万-2.5万港元，门店店员培训期间的工资约1.45万港元，前者比蜜雪冰城早前招聘铜锣湾门店店长时开出的薪水还略高。\\n\\n内地的新茶饮品牌和咖啡品牌纷纷进军香港，但高昂的人力成本和租金成本是个问题。据界面报道，香港洗碗工月薪能高达1.8万，因此霸王茶姬、蜜雪冰城开出的“高薪”在当地只能勉强称上正常水平。据香港媒体测算，蜜雪冰城旺角店需月售两万杯才能承担20万的月租。'), Document(metadata={'source': '/content/drive/MyDrive/Colab Notebooks/docs/8家消费公司拿到新钱;霸王茶姬高薪招香港店长;一季度快消品平均售价同比降1.5%｜创投大视野.txt'}, page_content='内地的新茶饮品牌和咖啡品牌纷纷进军香港，但高昂的人力成本和租金成本是个问题。据界面报道，香港洗碗工月薪能高达1.8万，因此霸王茶姬、蜜雪冰城开出的“高薪”在当地只能勉强称上正常水平。据香港媒体测算，蜜雪冰城旺角店需月售两万杯才能承担20万的月租。\\n\\n这已经对一些赴港扩张的内地品牌造成了阻碍。柠檬茶品牌“柠濛濛”、湘菜品牌“萝卜向南”等都已被曝关闭香港门店。背后的本质问题在于，内地的性价比优势是否能在香港本土实现，manner、星巴克、蜜雪冰城在香港的门店均设置了高于内地的定价。如今，香港和内地全面通关，“港人北上”成为颇为便利的风潮，野心勃勃的霸王茶姬需要更灵活的准备。\\n\\n•「小罐茶」创始人为营销套路致歉\\n\\n小罐茶希望尽快摆脱“强营销”的过去。\\n\\n6月25日，小罐茶创始人杜国楹在12周年发布上回应长期以来公众对“大师作”这一标签的争议。“大师作”的宣传语曾因是否由大师亲手做的问题引发诸多争议，杜国楹表示，企业广告语对大家造成了困扰，自己反思多年，郑重向大家道歉。\\n\\n如今，大众消费者对过度营销、智商税的抵触越来越高，小罐茶的日子也过得不太好。据界面报道，小罐茶近90天新开33家门店，新关59家；门店总数由2023年12月的1002家下滑到眼下的626家。按此计算，小罐茶在半年内关闭了376家门店。\\n\\n消费的大环境在发生变化，品牌也要顺势而变。道歉完毕后，杜国楹话锋一转，宣布小罐茶的135项制茶专利无偿向社会开源，霸王茶姬成为其专利开源的首位授予伙伴。此外，他们还将大力发展平价产品线“小罐茶园”，定位生活口粮茶，售价在100-300元/斤。\\n\\n•「大窑饮品」加入无糖茶大战\\n\\n大窑不只满足于汽水市场了。\\n\\n6月28日，大窑通过微信公众号宣布，设立新品牌“查元香”，同步推出金桂乌龙、白兰乌龙、乌龙茶3款茶饮新品。紧跟当下的无糖茶趋势，上述新品的亮点也是0糖、0脂肪、0能量，终端售价4-5元。在更早前的2022年，大窑已经启用过查元香品牌，在电商渠道售卖其果汁气泡茶产品。\\n\\n爆火的无糖茶很难让人不眼红。农夫山泉的茶饮产品在2023年录得126.59亿元收入，较2022年增长83.3%，占总收入的29.7%，已然扛起第二增长曲线的担子。尼尔森数据也显示，东方树叶在截至2023年8月的12个月内同比增长114%，增速超过即饮茶行业整体增速9倍。'), Document(metadata={'source': '/content/drive/MyDrive/Colab Notebooks/docs/8家消费公司拿到新钱;霸王茶姬高薪招香港店长;一季度快消品平均售价同比降1.5%｜创投大视野.txt'}, page_content='据马上赢数据，无糖即饮茶类目中，农夫山泉和三得利的市场份额之和超过75%，即便如此，还有一众品牌在进入这一领域。也正因参与者众多，茶饮料的利润空间和竞争局面都不容太乐观。比如，东方树叶靠相对低价的大包装产品来营造“实惠感”，最大对手三得利也将批发价紧紧咬住。\\n\\n据悉，大窑此次的新尝试也将延续以往优势，从餐饮渠道出发，但茶饮料是否能和餐渠实现最好的适配还需验证。\\n\\n未来Idea\\n• 好利来旗下「BLACKSWAN黑天鹅法餐厅」开业\\n\\n好利来在餐饮领域持续“搞事情”。\\n\\n6月25日，好利来官方公众号发文称，集团旗下全新BLACKSWAN黑天鹅法餐厅当日正式开业。该餐厅位于北京风景如画的罗红摄影艺术馆内，毗邻天鹅湖畔。餐厅由知名建筑事务所Chris Shao Studio设计，总面积1300平米，天鹅的轻盈与纯粹也被延续到该店的空间美学之中。\\n\\n好利来兼黑天鹅执行总裁罗昊，去年创立EHB餐厅，半年后便摘得米其林一星，此次的新餐厅是好利来在餐饮领域的又一次重要动作。据悉，该餐厅配备11张桌子，可容纳47名顾客，一共有4个包间，每个包间可容纳6-12人不等，总桌位达到90个。为保证高级定制的服务体验，大厅与包间每晚同时接待不会超过35人。\\n\\n•「源氏木语」上海首家千坪旗舰店开业\\n\\n源氏木语位于上海徐汇万科的旗舰店\\n\\n源氏木语加速奔跑。\\n\\n36氪获悉，源氏木语徐汇万科旗舰店开业，这是源氏木语在上海精心打造的首家千平旗舰店，占地共1200平方米。同时，源氏木语2024年线下门店即将突破1000家，加速跑入千店时代。\\n\\n据悉，上海徐汇万科旗舰店的展示产品超千件，除实木材质产品外，还增加黑标系列等旗舰产品。此外，该店还设置了“儿童成长专区”和“0胶水床垫·睡眠专区”等区域，前者可根据独生和多娃家庭的不同需求提供多元的空间设计选择，后者则用全线0胶水床垫展现品牌对消费者健康和生活品质的重视。\\n\\n•「巴奴毛肚火锅」浙江首店落地\\n\\n巴奴的扩张再下一城。\\n\\n据赢商网报道，来自河南的火锅品牌巴奴毛肚火锅浙江首店于湖滨银泰in77C3区3层围挡。这家以毛肚为特色的川式火锅直营连锁品牌，于2001年在河南安阳成立，其代表性原创单品还有巴奴拽面、茴香小油条、巴奴擀面皮、番茄辣锅底等。'), Document(metadata={'source': '/content/drive/MyDrive/Colab Notebooks/docs/8家消费公司拿到新钱;霸王茶姬高薪招香港店长;一季度快消品平均售价同比降1.5%｜创投大视野.txt'}, page_content='巴奴的扩张再下一城。\\n\\n据赢商网报道，来自河南的火锅品牌巴奴毛肚火锅浙江首店于湖滨银泰in77C3区3层围挡。这家以毛肚为特色的川式火锅直营连锁品牌，于2001年在河南安阳成立，其代表性原创单品还有巴奴拽面、茴香小油条、巴奴擀面皮、番茄辣锅底等。\\n\\n根植于河南，这里也成为巴奴落地门店最多的省份。2009年起，巴奴的异地扩张才开始提速，目前在全国30多座城市有超110家直营门店，此次落地的新店是其进入浙江省的一个节点。\\n\\n数读消费\\n• 一季度中国快消品平均售价同比降1.5%\\n\\n《2024年中国购物者报告，系列一》节选\\n\\n中国消费市场正在适应新现实：温和增长，价格持续承压。\\n\\n凯度消费者指数与贝恩公司联合发布《2024年中国购物者报告，系列一》显示，中国快消品市场在2023年全年实现了2.4%的销售额同比增长，落后于中国GDP增长率（5.2%）和社会消费品零售总额增长率（7.2%，不包括餐饮），疫情后家外消费复苏是影响增速的一部分原因。快消品的销量全年增长2.4%，平均售价全年保持相对稳定。\\n\\n来到2024年一季度后，中国快消品销量增长3.5%，推动销售额增长2.0%左右，比2023年同期增速高出0.5个百分点。销量的增长表明消费者依然具有较强的消费需求。然而，平均售价同比下降1.5%，打破了2023年的平稳态势。\\n\\n从城市层级看，二线城市成为快消品市场增长的主要推动力。过去四年，二线城市虹吸了大量周边人口，移居到二线城市的人口数量超过了800万。这使得二线城市成为大多数快消品品牌的“兵家必争之地”。\\n\\n• 1/4 的Z世代购买决策受动物友好理念影响\\n\\nZ世代已经登上舞台。\\n\\n尼尔森IQ与WDL联合发布的首份《Z 世代消费报告》显示，预计到 2030 年，全球Z 世代市场的购买能力将达到 12 万亿美元。该报告中的Z 世代定义为1997 年至 2012 年出生的人，也被称为第一批真正的数据原住民。\\n\\n健康依然是Z世代所定义的“美好生活”的第一位。上述报告显示，超过50%的Z世代使用过健身或锻炼应用程序，17%的Z世代使用过健身手环来跟踪健康和健身信息。在国内，网络上的一些段子“枸杞泡酒”等等，都可以证明青年人的健康意识觉醒。'), Document(metadata={'source': '/content/drive/MyDrive/Colab Notebooks/docs/8家消费公司拿到新钱;霸王茶姬高薪招香港店长;一季度快消品平均售价同比降1.5%｜创投大视野.txt'}, page_content='健康依然是Z世代所定义的“美好生活”的第一位。上述报告显示，超过50%的Z世代使用过健身或锻炼应用程序，17%的Z世代使用过健身手环来跟踪健康和健身信息。在国内，网络上的一些段子“枸杞泡酒”等等，都可以证明青年人的健康意识觉醒。\\n\\n除此之外，在Z世代的消费行为中，归属感、情感价值、社会责任等话题的影响力都明显偏高。77%的Z世代表示他们不会从环保标准差的国家购买商品，同时，他们更喜欢购买可持续品牌，并且愿意为可持续产品多花费10%的钱。而1/4 的Z世代表示，动物友好的制造过程会影响他们的购买决策。\\n\\n• 京东底妆：百元内下滑19.6%,800元以上增长19.3%\\n\\n青眼情报数据显示，近12个月京东底妆类目GMV为8.15亿元，同比下降4.6%。\\n\\n这一数据或许显示出，消费者对底妆的需求正朝着高端化发展。据青眼统计，近12个月京东底妆销售相对平稳，GMV有小幅度下滑。800-1000元价格段底妆GMV同比增长超25%。此外，在TOP10品牌中，国产品牌仅占3席，GMV占比17.7%，这一类目的外资品牌优势明显。\\n\\n从位列品牌榜TOP1的雅诗兰黛来看，近12个月雅诗兰黛在京东底妆类目GMV最高的3个单品，分别是雅诗兰黛DW持妆粉底液17#象牙白、雅诗兰黛沁水粉底液61#象牙白冷、雅诗兰黛DW持妆粉底液62#自然偏白，三者GMV占雅诗兰黛底妆总体GMV的51.7%。'), Document(metadata={'source': '/content/drive/MyDrive/Colab Notebooks/docs/英超信息.txt'}, page_content='2023-2024赛季英超已经结束，阿森纳队获得89分，但仍然落后曼城队2分，曼城实现英超四连冠。由于近期多位主帅都发表了自己对VAR技术的看法，太阳报也列出了在没有VAR的情况下，本赛季的英超积分榜。前五名的名次完全不变，阿森纳积分将加1分，达到，但仍落后曼城1分。得到1分的纽卡将反超失去2分的切尔西，排名英超第6。降级的三支球队卢顿、伯恩利、谢菲尔德联的排名也没有变化。\\n\\n下月，英超各队将根据狼队动议，就是否废除VAR进行投票。《太阳报》日前制作了“无VAR英超积分榜”，统计如果本赛季没有VAR，各队会是怎样的积分和排名。这种简单粗暴的加减法当然不尽科学，但仍可参考。不难发现，有12支球队排名不变，变幅最大的是布莱顿会因为没有VAR而多拿5分。而前5球队，排名完全不变。可见，VAR今天取消你一个进球，明天就可能取消对手一个进球，各队“吃亏”“占便宜”总体守恒，只不过占便宜不容易记住，吃亏一次就容易觉得被坑一年。')]\n"
          ]
        }
      ]
    },
    {
      "cell_type": "markdown",
      "source": [
        "**4.数据块存储**\n",
        "* Weaviate Client：创建 Weaviate 客户端，用于与 Weaviate 数据库交互。EmbeddedOptions() 表示嵌入式选项，用于本地化操作。\n",
        "* vectorstore：将分块后的文档存储到 Weaviate 中，并使用 OpenAI 的嵌入模型 (OpenAIEmbeddings) 将文本转换为向量，以便后续的检索。"
      ],
      "metadata": {
        "id": "HhgvTNTuTspz"
      }
    },
    {
      "cell_type": "code",
      "source": [
        "#数据块存储\n",
        "client = weaviate.Client(\n",
        " embedded_options = EmbeddedOptions()\n",
        ")\n",
        "\n",
        "vectorstore = Weaviate.from_documents(\n",
        "  client = client,\n",
        "  documents = chunks,\n",
        "  embedding = OpenAIEmbeddings(openai_api_key = userdata.get('openai_api_key')),\n",
        "  by_text = False\n",
        ")"
      ],
      "metadata": {
        "id": "Nck5l0J1wxan",
        "colab": {
          "base_uri": "https://localhost:8080/"
        },
        "outputId": "6ab07b4e-a725-4e3f-f7c0-63c903555744",
        "collapsed": true
      },
      "execution_count": null,
      "outputs": [
        {
          "output_type": "stream",
          "name": "stderr",
          "text": [
            "INFO:weaviate-client:Binary /root/.cache/weaviate-embedded did not exist. Downloading binary from https://github.com/weaviate/weaviate/releases/download/v1.26.1/weaviate-v1.26.1-Linux-amd64.tar.gz\n",
            "INFO:weaviate-client:Started /root/.cache/weaviate-embedded: process ID 1136\n",
            "<ipython-input-6-6afce0e33cc8>:9: LangChainDeprecationWarning: The class `OpenAIEmbeddings` was deprecated in LangChain 0.0.9 and will be removed in 1.0. An updated version of the class exists in the langchain-openai package and should be used instead. To use it run `pip install -U langchain-openai` and import as `from langchain_openai import OpenAIEmbeddings`.\n",
            "  embedding = OpenAIEmbeddings(openai_api_key = userdata.get('openai_api_key')),\n"
          ]
        }
      ]
    },
    {
      "cell_type": "markdown",
      "source": [
        "## RAG实现"
      ],
      "metadata": {
        "id": "9y3X9Q5xV1pr"
      }
    },
    {
      "cell_type": "markdown",
      "source": [
        "**5.数据检索**\n",
        " * Retriever：将存储在 Weaviate 中的向量数据转化为可用于检索的对象。"
      ],
      "metadata": {
        "id": "xpNLwjpPUYzk"
      }
    },
    {
      "cell_type": "code",
      "source": [
        "#数据检索\n",
        "retriever = vectorstore.as_retriever()\n",
        "print(retriever.get_relevant_documents(\"霸王茶姬香港店什么时候开业？店长薪酬是多少？\") )"
      ],
      "metadata": {
        "id": "9apmMgmUl3Tv",
        "colab": {
          "base_uri": "https://localhost:8080/"
        },
        "outputId": "5684a7c3-ef69-4e10-e2ae-032ed9dc45e4"
      },
      "execution_count": null,
      "outputs": [
        {
          "output_type": "stream",
          "name": "stderr",
          "text": [
            "<ipython-input-7-7c307540d98f>:3: LangChainDeprecationWarning: The method `BaseRetriever.get_relevant_documents` was deprecated in langchain-core 0.1.46 and will be removed in 1.0. Use invoke instead.\n",
            "  print(retriever.get_relevant_documents(\"霸王茶姬香港店什么时候开业？店长薪酬是多少？\") )\n"
          ]
        },
        {
          "output_type": "stream",
          "name": "stdout",
          "text": [
            "[Document(metadata={'source': '/content/drive/MyDrive/Colab Notebooks/docs/8家消费公司拿到新钱;霸王茶姬高薪招香港店长;一季度快消品平均售价同比降1.5%｜创投大视野.txt'}, page_content='内地的新茶饮品牌和咖啡品牌纷纷进军香港，但高昂的人力成本和租金成本是个问题。据界面报道，香港洗碗工月薪能高达1.8万，因此霸王茶姬、蜜雪冰城开出的“高薪”在当地只能勉强称上正常水平。据香港媒体测算，蜜雪冰城旺角店需月售两万杯才能承担20万的月租。\\n\\n这已经对一些赴港扩张的内地品牌造成了阻碍。柠檬茶品牌“柠濛濛”、湘菜品牌“萝卜向南”等都已被曝关闭香港门店。背后的本质问题在于，内地的性价比优势是否能在香港本土实现，manner、星巴克、蜜雪冰城在香港的门店均设置了高于内地的定价。如今，香港和内地全面通关，“港人北上”成为颇为便利的风潮，野心勃勃的霸王茶姬需要更灵活的准备。\\n\\n•「小罐茶」创始人为营销套路致歉\\n\\n小罐茶希望尽快摆脱“强营销”的过去。\\n\\n6月25日，小罐茶创始人杜国楹在12周年发布上回应长期以来公众对“大师作”这一标签的争议。“大师作”的宣传语曾因是否由大师亲手做的问题引发诸多争议，杜国楹表示，企业广告语对大家造成了困扰，自己反思多年，郑重向大家道歉。\\n\\n如今，大众消费者对过度营销、智商税的抵触越来越高，小罐茶的日子也过得不太好。据界面报道，小罐茶近90天新开33家门店，新关59家；门店总数由2023年12月的1002家下滑到眼下的626家。按此计算，小罐茶在半年内关闭了376家门店。\\n\\n消费的大环境在发生变化，品牌也要顺势而变。道歉完毕后，杜国楹话锋一转，宣布小罐茶的135项制茶专利无偿向社会开源，霸王茶姬成为其专利开源的首位授予伙伴。此外，他们还将大力发展平价产品线“小罐茶园”，定位生活口粮茶，售价在100-300元/斤。\\n\\n•「大窑饮品」加入无糖茶大战\\n\\n大窑不只满足于汽水市场了。\\n\\n6月28日，大窑通过微信公众号宣布，设立新品牌“查元香”，同步推出金桂乌龙、白兰乌龙、乌龙茶3款茶饮新品。紧跟当下的无糖茶趋势，上述新品的亮点也是0糖、0脂肪、0能量，终端售价4-5元。在更早前的2022年，大窑已经启用过查元香品牌，在电商渠道售卖其果汁气泡茶产品。\\n\\n爆火的无糖茶很难让人不眼红。农夫山泉的茶饮产品在2023年录得126.59亿元收入，较2022年增长83.3%，占总收入的29.7%，已然扛起第二增长曲线的担子。尼尔森数据也显示，东方树叶在截至2023年8月的12个月内同比增长114%，增速超过即饮茶行业整体增速9倍。'), Document(metadata={'source': '/content/drive/MyDrive/Colab Notebooks/docs/8家消费公司拿到新钱;霸王茶姬高薪招香港店长;一季度快消品平均售价同比降1.5%｜创投大视野.txt'}, page_content='8家消费公司拿到新钱;霸王茶姬高薪招香港店长;一季度快消品平均售价同比降1.5%｜创投大视野\\n任彩茹\\n·2024-06-30 09:58\\n关注\\n离你最近的消费创投一线。\\n\\n霸王茶姬\\nB轮\\n云南省\\n2017-06\\n新中式国风茶饮品牌\\n36氪报道\\n消费电商\\nWISE2023年度企业榜单-消费生活\\n36Under36\\nFUTURE2022消费新势力\\nWISE2022年度企业\\n我要联系\\n整理｜任彩茹\\n\\n编辑｜杨亚飞\\n\\nBusy Money\\n•「不停科技」完成近亿元A+轮融资\\n\\n数字厨房理念图\\n\\n硬氪获悉，「不停科技」近日完成近亿元A+轮融资，本次由华山资本领投，老股东高秉强教授生态圈基金未来科技参与投资，老股东李泽湘教授旗下清水湾基金、甘洁教授旗下知行一号基金连续三轮继续超额加持。星辰资本担任后续融资独家财务顾问。\\n\\n不停科技面向全球市场提供软硬件一体的AI数字厨房整体解决方案，通过智能烹饪机器人和智能厨房调度系统等产品，将厨房场景全程数字化，保证菜品的一致性。目前其产品出货17个国家及地区，客户包括世界头部餐饮集团和餐饮运营商，覆盖连锁品牌餐饮、酒店、航空、餐食服务等场景。\\n\\n•「新菁集团」完成千万元天使轮融资\\n\\n据IT桔子，「新菁集团」完成千万元天使轮融资，由星耀影视投资。新菁集团是一家影视剧发行和互联网达人孵化服务商，公司拥有原一线互联网公司的技术和运营团队，主要服务于影视剧发行和互联网达人孵化、运营传播与商业合作等领域。\\n\\n•「微远生物」完成数千万元天使轮融资\\n\\n据动脉网，「微远生物」宣布完成数千万元天使轮融资，由多家产业基金共同投资。微远生物成立于2023年，致力于合成生物学技术的研究与应用，公司主要产品包括酶库设计构建平台和细胞工厂改造平台，为医药、化妆品、食品等领域的企业提供原料和技术解决方案。\\n\\n•「广西立马」以2.1亿元被收购\\n\\n据鲸准，「广西立马」以2.1亿元被收购，投资方为「星星科技」。广西立马是一家电动车生产商，集研发、生产、销售于一体，主要从事电动两轮摩托车、电动自行车的制造及销售业务。\\n\\n•「安帝康生物」完成超2亿元A轮融资\\n\\n据投资界，「安帝康生物」完成超2亿元A轮融资，由先声药业、华金投资与华金大道领投，老股东同创伟业、嘉兴新创创投持续加投，嘉睿未来之星、金沙江联合润璞医疗基金、文周投资、崧泽资本和顺杰健康跟投。'), Document(metadata={'source': '/content/drive/MyDrive/Colab Notebooks/docs/8家消费公司拿到新钱;霸王茶姬高薪招香港店长;一季度快消品平均售价同比降1.5%｜创投大视野.txt'}, page_content='•「安帝康生物」完成超2亿元A轮融资\\n\\n据投资界，「安帝康生物」完成超2亿元A轮融资，由先声药业、华金投资与华金大道领投，老股东同创伟业、嘉兴新创创投持续加投，嘉睿未来之星、金沙江联合润璞医疗基金、文周投资、崧泽资本和顺杰健康跟投。\\n\\n安帝康生物是一家专注于呼吸感染和疼痛领域开发创新性治疗药物的创新医药企业，除抗流感新药玛氘诺沙韦、抗呼吸道合胞病毒（RSV）新药ADC789混悬液等产品管线外，还有望填补国内空白的用于治疗子宫内膜异位症和子宫肌瘤的创新药ADC308片。\\n\\n•「吉润置业」作价1.7亿元被收购\\n\\n据鲸准，「吉润置业」作价1.7亿元被收购，投资方为「苏美达集团」。吉润置业是一家房地产租赁服务商，主要从事非居住房地产租赁业务，该公司主要资产为其自建的位于上海市浦东新区的综合研发大楼。\\n\\n•「中软创客」完成3000万元天使轮融资\\n\\n据IT桔子，「中软创客」近日完成3000万元天使轮融资。中软创客是一家大数据营销技术研发与应用服务商，聚焦用户大数据方向，致力于建立用户营销标准化体系，通过收集、分析和利用大数据，挖掘百万亿级的应用营销市场潜力。\\n\\n•「共讯科技」完成1500万元融资\\n\\n据IT桔子，「共讯科技」近日宣布完成1500万元融资。共讯科技是一家无人零售解决方案提供商，凭借其自主研发的线下智能售货终端系统，为合作商户打造竞争优势，已成功孵化四大热门项目：24小时成人用品无人店、美团闪电云商店、宠物无人仓和美妆闪电仓。\\n\\n公司情报\\n•「霸王茶姬」高薪招香港店长\\n\\n霸王茶姬去香港会经历什么？\\n\\n社媒信息显示，霸王茶姬位于尖沙咀K11的香港首店已围挡，从围挡信息来看，正式开业时间为8月。霸王茶姬此前曾在香港招聘网站上发布招聘信息，开出的店长职位薪酬为1.8万-2.5万港元，门店店员培训期间的工资约1.45万港元，前者比蜜雪冰城早前招聘铜锣湾门店店长时开出的薪水还略高。\\n\\n内地的新茶饮品牌和咖啡品牌纷纷进军香港，但高昂的人力成本和租金成本是个问题。据界面报道，香港洗碗工月薪能高达1.8万，因此霸王茶姬、蜜雪冰城开出的“高薪”在当地只能勉强称上正常水平。据香港媒体测算，蜜雪冰城旺角店需月售两万杯才能承担20万的月租。'), Document(metadata={'source': '/content/drive/MyDrive/Colab Notebooks/docs/8家消费公司拿到新钱;霸王茶姬高薪招香港店长;一季度快消品平均售价同比降1.5%｜创投大视野.txt'}, page_content='据马上赢数据，无糖即饮茶类目中，农夫山泉和三得利的市场份额之和超过75%，即便如此，还有一众品牌在进入这一领域。也正因参与者众多，茶饮料的利润空间和竞争局面都不容太乐观。比如，东方树叶靠相对低价的大包装产品来营造“实惠感”，最大对手三得利也将批发价紧紧咬住。\\n\\n据悉，大窑此次的新尝试也将延续以往优势，从餐饮渠道出发，但茶饮料是否能和餐渠实现最好的适配还需验证。\\n\\n未来Idea\\n• 好利来旗下「BLACKSWAN黑天鹅法餐厅」开业\\n\\n好利来在餐饮领域持续“搞事情”。\\n\\n6月25日，好利来官方公众号发文称，集团旗下全新BLACKSWAN黑天鹅法餐厅当日正式开业。该餐厅位于北京风景如画的罗红摄影艺术馆内，毗邻天鹅湖畔。餐厅由知名建筑事务所Chris Shao Studio设计，总面积1300平米，天鹅的轻盈与纯粹也被延续到该店的空间美学之中。\\n\\n好利来兼黑天鹅执行总裁罗昊，去年创立EHB餐厅，半年后便摘得米其林一星，此次的新餐厅是好利来在餐饮领域的又一次重要动作。据悉，该餐厅配备11张桌子，可容纳47名顾客，一共有4个包间，每个包间可容纳6-12人不等，总桌位达到90个。为保证高级定制的服务体验，大厅与包间每晚同时接待不会超过35人。\\n\\n•「源氏木语」上海首家千坪旗舰店开业\\n\\n源氏木语位于上海徐汇万科的旗舰店\\n\\n源氏木语加速奔跑。\\n\\n36氪获悉，源氏木语徐汇万科旗舰店开业，这是源氏木语在上海精心打造的首家千平旗舰店，占地共1200平方米。同时，源氏木语2024年线下门店即将突破1000家，加速跑入千店时代。\\n\\n据悉，上海徐汇万科旗舰店的展示产品超千件，除实木材质产品外，还增加黑标系列等旗舰产品。此外，该店还设置了“儿童成长专区”和“0胶水床垫·睡眠专区”等区域，前者可根据独生和多娃家庭的不同需求提供多元的空间设计选择，后者则用全线0胶水床垫展现品牌对消费者健康和生活品质的重视。\\n\\n•「巴奴毛肚火锅」浙江首店落地\\n\\n巴奴的扩张再下一城。\\n\\n据赢商网报道，来自河南的火锅品牌巴奴毛肚火锅浙江首店于湖滨银泰in77C3区3层围挡。这家以毛肚为特色的川式火锅直营连锁品牌，于2001年在河南安阳成立，其代表性原创单品还有巴奴拽面、茴香小油条、巴奴擀面皮、番茄辣锅底等。')]\n"
          ]
        }
      ]
    },
    {
      "cell_type": "markdown",
      "source": [
        "**6.提示增强**\n",
        "* template：定义了一个提示模板，用于指导 LLM 如何生成回答。模板中的 {question} 和 {context} 会在实际调用时被问题和上下文数据所替换。\n",
        "* ChatPromptTemplate：用于将模板生成一个可用于 LLM 的提示对象。"
      ],
      "metadata": {
        "id": "Sdd1Gz24Vjju"
      }
    },
    {
      "cell_type": "code",
      "source": [
        "#提示增强\n",
        "template = \"你是一个问答机器人助手，请使用以下检索到的上下文来回答问题，如果你不知道答案，就说你不知道。问题是：{question},上下文: {context},答案是:\"\n",
        "prompt = ChatPromptTemplate.from_template(template)"
      ],
      "metadata": {
        "id": "8XFNOUB4-b1-"
      },
      "execution_count": null,
      "outputs": []
    },
    {
      "cell_type": "markdown",
      "source": [
        "**7.答案生成**\n",
        "* ChatOpenAI：实例化 OpenAI 的 GPT-3.5 模型，用于生成基于上下文的答案。temperature=0 表示生成的答案会更加确定性，减少随机性。\n",
        "* rag_chain：定义了一个处理链，依次进行数据检索、提示生成、答案生成以及最终的输出解析。\n",
        "* {\"context\": retriever, \"question\": RunnablePassthrough()}：定义了 RAG 链的输入部分，retriever 用于检索上下文，RunnablePassthrough 用于直接传递用户的问题。\n",
        "*\t| prompt | llm | StrOutputParser()：表示链式调用。prompt 生成输入给 LLM 的提示，llm 生成答案，StrOutputParser() 将答案解析成字符串格式。"
      ],
      "metadata": {
        "id": "9iTAZHYJWWYw"
      }
    },
    {
      "cell_type": "code",
      "source": [
        "#答案生成\n",
        "llm = ChatOpenAI(model_name=\"gpt-3.5-turbo\", temperature=0,openai_api_key = userdata.get('openai_api_key'))\n",
        "\n",
        "rag_chain = (\n",
        "  {\"context\": retriever, \"question\": RunnablePassthrough()}\n",
        "  | prompt\n",
        "  | llm\n",
        "  | StrOutputParser()\n",
        ")"
      ],
      "metadata": {
        "id": "oC8EW-j5-hSr",
        "colab": {
          "base_uri": "https://localhost:8080/"
        },
        "outputId": "7bbb49b4-eeaf-469f-af68-03001e003a8a"
      },
      "execution_count": null,
      "outputs": [
        {
          "output_type": "stream",
          "name": "stderr",
          "text": [
            "<ipython-input-9-ac404246773a>:2: LangChainDeprecationWarning: The class `ChatOpenAI` was deprecated in LangChain 0.0.10 and will be removed in 1.0. An updated version of the class exists in the langchain-openai package and should be used instead. To use it run `pip install -U langchain-openai` and import as `from langchain_openai import ChatOpenAI`.\n",
            "  llm = ChatOpenAI(model_name=\"gpt-3.5-turbo\", temperature=0,openai_api_key = userdata.get('openai_api_key'))\n"
          ]
        }
      ]
    },
    {
      "cell_type": "code",
      "source": [
        "# query = \"霸王茶姬香港店什么时候开业？什么地方？店长薪酬是多少？\"\n",
        "query = \"今年英超冠军是谁？多少分\"\n",
        "res=rag_chain.invoke(query)\n",
        "print(f'答案：{res}')"
      ],
      "metadata": {
        "id": "ED1i6S0t-izT",
        "colab": {
          "base_uri": "https://localhost:8080/"
        },
        "outputId": "e2bad031-104b-4cb5-c1b2-57f5e7acb645"
      },
      "execution_count": null,
      "outputs": [
        {
          "output_type": "stream",
          "name": "stdout",
          "text": [
            "答案：今年英超冠军是曼城队，他们获得了91分。\n"
          ]
        }
      ]
    }
  ]
}